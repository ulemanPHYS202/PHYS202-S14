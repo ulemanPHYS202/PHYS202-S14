{
 "metadata": {
  "name": "",
  "signature": "sha256:69fff1c4c0be012fdc1e23e8c5aa6c89b6f46c103ac96e077dcf0612516d9c0a"
 },
 "nbformat": 3,
 "nbformat_minor": 0,
 "worksheets": [
  {
   "cells": [
    {
     "cell_type": "code",
     "collapsed": false,
     "input": [
      "#function to sum multiples of 3 and 5\n",
      "def sum35(x):#x is the number that multiples below are summed\n",
      "    sum1=0\n",
      "    for i in range(x):\n",
      "        if i %3 ==0 or i %5==0:#if i is a multiple of 3 or 5, add i to sum1\n",
      "            sum1+=i\n",
      "    return sum1"
     ],
     "language": "python",
     "metadata": {},
     "outputs": [],
     "prompt_number": 5
    },
    {
     "cell_type": "code",
     "collapsed": false,
     "input": [
      "sum35(10)#test case for multiples under 10"
     ],
     "language": "python",
     "metadata": {},
     "outputs": [
      {
       "metadata": {},
       "output_type": "pyout",
       "prompt_number": 4,
       "text": [
        "23"
       ]
      }
     ],
     "prompt_number": 4
    },
    {
     "cell_type": "code",
     "collapsed": false,
     "input": [
      "sum35(1000)#problem case for multiples under 1000"
     ],
     "language": "python",
     "metadata": {},
     "outputs": [
      {
       "metadata": {},
       "output_type": "pyout",
       "prompt_number": 6,
       "text": [
        "233168"
       ]
      }
     ],
     "prompt_number": 6
    },
    {
     "cell_type": "code",
     "collapsed": false,
     "input": [],
     "language": "python",
     "metadata": {},
     "outputs": []
    }
   ],
   "metadata": {}
  }
 ]
}