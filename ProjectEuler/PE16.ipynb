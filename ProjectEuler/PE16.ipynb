{
 "metadata": {
  "name": "",
  "signature": "sha256:835ee5358500956c53235c9ed7ecf113926b570dca0d9baa9d4621d73f6e7363"
 },
 "nbformat": 3,
 "nbformat_minor": 0,
 "worksheets": [
  {
   "cells": [
    {
     "cell_type": "heading",
     "level": 1,
     "metadata": {},
     "source": [
      "Project Euler 16"
     ]
    },
    {
     "cell_type": "heading",
     "level": 2,
     "metadata": {},
     "source": [
      "Power Digit Sum\n"
     ]
    },
    {
     "cell_type": "markdown",
     "metadata": {},
     "source": [
      "215 = 32768 and the sum of its digits is 3 + 2 + 7 + 6 + 8 = 26.\n",
      "\n",
      "What is the sum of the digits of the number 21000?"
     ]
    },
    {
     "cell_type": "code",
     "collapsed": false,
     "input": [
      "def fxn(x): #making a fxn that computes the sum of the digits\n",
      "    s = str(x)\n",
      "    j = 0\n",
      "    for i in s:\n",
      "        j+=int(i)\n",
      "    print j"
     ],
     "language": "python",
     "metadata": {},
     "outputs": [],
     "prompt_number": 3
    },
    {
     "cell_type": "code",
     "collapsed": false,
     "input": [
      "fxn(32768) #test case"
     ],
     "language": "python",
     "metadata": {},
     "outputs": [
      {
       "output_type": "stream",
       "stream": "stdout",
       "text": [
        "26\n"
       ]
      }
     ],
     "prompt_number": 4
    },
    {
     "cell_type": "code",
     "collapsed": false,
     "input": [
      "fxn(2**1000) #case of 2 ^ 1000 "
     ],
     "language": "python",
     "metadata": {},
     "outputs": [
      {
       "output_type": "stream",
       "stream": "stdout",
       "text": [
        "1366\n"
       ]
      }
     ],
     "prompt_number": 6
    },
    {
     "cell_type": "code",
     "collapsed": false,
     "input": [],
     "language": "python",
     "metadata": {},
     "outputs": []
    }
   ],
   "metadata": {}
  }
 ]
}