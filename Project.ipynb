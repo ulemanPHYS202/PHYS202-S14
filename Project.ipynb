{
 "metadata": {
  "name": "",
  "signature": "sha256:02858330bbf0468f59fe076d46d613f69a6389def94bf8c0bbe0342480fa1dbd"
 },
 "nbformat": 3,
 "nbformat_minor": 0,
 "worksheets": [
  {
   "cells": [
    {
     "cell_type": "code",
     "collapsed": false,
     "input": [
      "from ipythonblocks import *\n",
      "%pylab inline\n",
      "import numpy as np\n",
      "import random\n",
      "import math"
     ],
     "language": "python",
     "metadata": {},
     "outputs": [
      {
       "output_type": "stream",
       "stream": "stdout",
       "text": [
        "Populating the interactive namespace from numpy and matplotlib\n"
       ]
      },
      {
       "output_type": "stream",
       "stream": "stderr",
       "text": [
        "WARNING: pylab import has clobbered these variables: ['size', 'interactive', 'random', 'colors', 'fill']\n",
        "`%matplotlib` prevents importing * from pylab and numpy\n"
       ]
      }
     ],
     "prompt_number": 38
    },
    {
     "cell_type": "code",
     "collapsed": false,
     "input": [
      "size=10\n",
      "g=BlockGrid(size,size,fill=(0,0,0))\n",
      "\n",
      "from IPython.html.widgets import interact, interactive\n",
      "g"
     ],
     "language": "python",
     "metadata": {},
     "outputs": [
      {
       "html": [
        "<style type=\"text/css\">table.blockgrid {border: none;} .blockgrid tr {border: none;} .blockgrid td {padding: 0px;} #blocks3e866850-8090-4d86-90c7-37aa5fef1a5b td {border: 1px solid white;}</style><table id=\"blocks3e866850-8090-4d86-90c7-37aa5fef1a5b\" class=\"blockgrid\"><tbody><tr><td title=\"Index: [0, 0]&#10;Color: (0, 0, 0)\" style=\"width: 20px; height: 20px;background-color: rgb(0, 0, 0);\"></td><td title=\"Index: [0, 1]&#10;Color: (0, 0, 0)\" style=\"width: 20px; height: 20px;background-color: rgb(0, 0, 0);\"></td><td title=\"Index: [0, 2]&#10;Color: (0, 0, 0)\" style=\"width: 20px; height: 20px;background-color: rgb(0, 0, 0);\"></td><td title=\"Index: [0, 3]&#10;Color: (0, 0, 0)\" style=\"width: 20px; height: 20px;background-color: rgb(0, 0, 0);\"></td><td title=\"Index: [0, 4]&#10;Color: (0, 0, 0)\" style=\"width: 20px; height: 20px;background-color: rgb(0, 0, 0);\"></td><td title=\"Index: [0, 5]&#10;Color: (0, 0, 0)\" style=\"width: 20px; height: 20px;background-color: rgb(0, 0, 0);\"></td><td title=\"Index: [0, 6]&#10;Color: (0, 0, 0)\" style=\"width: 20px; height: 20px;background-color: rgb(0, 0, 0);\"></td><td title=\"Index: [0, 7]&#10;Color: (0, 0, 0)\" style=\"width: 20px; height: 20px;background-color: rgb(0, 0, 0);\"></td><td title=\"Index: [0, 8]&#10;Color: (0, 0, 0)\" style=\"width: 20px; height: 20px;background-color: rgb(0, 0, 0);\"></td><td title=\"Index: [0, 9]&#10;Color: (0, 0, 0)\" style=\"width: 20px; height: 20px;background-color: rgb(0, 0, 0);\"></td></tr><tr><td title=\"Index: [1, 0]&#10;Color: (0, 0, 0)\" style=\"width: 20px; height: 20px;background-color: rgb(0, 0, 0);\"></td><td title=\"Index: [1, 1]&#10;Color: (0, 0, 0)\" style=\"width: 20px; height: 20px;background-color: rgb(0, 0, 0);\"></td><td title=\"Index: [1, 2]&#10;Color: (0, 0, 0)\" style=\"width: 20px; height: 20px;background-color: rgb(0, 0, 0);\"></td><td title=\"Index: [1, 3]&#10;Color: (0, 0, 0)\" style=\"width: 20px; height: 20px;background-color: rgb(0, 0, 0);\"></td><td title=\"Index: [1, 4]&#10;Color: (0, 0, 0)\" style=\"width: 20px; height: 20px;background-color: rgb(0, 0, 0);\"></td><td title=\"Index: [1, 5]&#10;Color: (0, 0, 0)\" style=\"width: 20px; height: 20px;background-color: rgb(0, 0, 0);\"></td><td title=\"Index: [1, 6]&#10;Color: (0, 0, 0)\" style=\"width: 20px; height: 20px;background-color: rgb(0, 0, 0);\"></td><td title=\"Index: [1, 7]&#10;Color: (0, 0, 0)\" style=\"width: 20px; height: 20px;background-color: rgb(0, 0, 0);\"></td><td title=\"Index: [1, 8]&#10;Color: (0, 0, 0)\" style=\"width: 20px; height: 20px;background-color: rgb(0, 0, 0);\"></td><td title=\"Index: [1, 9]&#10;Color: (0, 0, 0)\" style=\"width: 20px; height: 20px;background-color: rgb(0, 0, 0);\"></td></tr><tr><td title=\"Index: [2, 0]&#10;Color: (0, 0, 0)\" style=\"width: 20px; height: 20px;background-color: rgb(0, 0, 0);\"></td><td title=\"Index: [2, 1]&#10;Color: (0, 0, 0)\" style=\"width: 20px; height: 20px;background-color: rgb(0, 0, 0);\"></td><td title=\"Index: [2, 2]&#10;Color: (0, 0, 0)\" style=\"width: 20px; height: 20px;background-color: rgb(0, 0, 0);\"></td><td title=\"Index: [2, 3]&#10;Color: (0, 0, 0)\" style=\"width: 20px; height: 20px;background-color: rgb(0, 0, 0);\"></td><td title=\"Index: [2, 4]&#10;Color: (0, 0, 0)\" style=\"width: 20px; height: 20px;background-color: rgb(0, 0, 0);\"></td><td title=\"Index: [2, 5]&#10;Color: (0, 0, 0)\" style=\"width: 20px; height: 20px;background-color: rgb(0, 0, 0);\"></td><td title=\"Index: [2, 6]&#10;Color: (0, 0, 0)\" style=\"width: 20px; height: 20px;background-color: rgb(0, 0, 0);\"></td><td title=\"Index: [2, 7]&#10;Color: (0, 0, 0)\" style=\"width: 20px; height: 20px;background-color: rgb(0, 0, 0);\"></td><td title=\"Index: [2, 8]&#10;Color: (0, 0, 0)\" style=\"width: 20px; height: 20px;background-color: rgb(0, 0, 0);\"></td><td title=\"Index: [2, 9]&#10;Color: (0, 0, 0)\" style=\"width: 20px; height: 20px;background-color: rgb(0, 0, 0);\"></td></tr><tr><td title=\"Index: [3, 0]&#10;Color: (0, 0, 0)\" style=\"width: 20px; height: 20px;background-color: rgb(0, 0, 0);\"></td><td title=\"Index: [3, 1]&#10;Color: (0, 0, 0)\" style=\"width: 20px; height: 20px;background-color: rgb(0, 0, 0);\"></td><td title=\"Index: [3, 2]&#10;Color: (0, 0, 0)\" style=\"width: 20px; height: 20px;background-color: rgb(0, 0, 0);\"></td><td title=\"Index: [3, 3]&#10;Color: (0, 0, 0)\" style=\"width: 20px; height: 20px;background-color: rgb(0, 0, 0);\"></td><td title=\"Index: [3, 4]&#10;Color: (0, 0, 0)\" style=\"width: 20px; height: 20px;background-color: rgb(0, 0, 0);\"></td><td title=\"Index: [3, 5]&#10;Color: (0, 0, 0)\" style=\"width: 20px; height: 20px;background-color: rgb(0, 0, 0);\"></td><td title=\"Index: [3, 6]&#10;Color: (0, 0, 0)\" style=\"width: 20px; height: 20px;background-color: rgb(0, 0, 0);\"></td><td title=\"Index: [3, 7]&#10;Color: (0, 0, 0)\" style=\"width: 20px; height: 20px;background-color: rgb(0, 0, 0);\"></td><td title=\"Index: [3, 8]&#10;Color: (0, 0, 0)\" style=\"width: 20px; height: 20px;background-color: rgb(0, 0, 0);\"></td><td title=\"Index: [3, 9]&#10;Color: (0, 0, 0)\" style=\"width: 20px; height: 20px;background-color: rgb(0, 0, 0);\"></td></tr><tr><td title=\"Index: [4, 0]&#10;Color: (0, 0, 0)\" style=\"width: 20px; height: 20px;background-color: rgb(0, 0, 0);\"></td><td title=\"Index: [4, 1]&#10;Color: (0, 0, 0)\" style=\"width: 20px; height: 20px;background-color: rgb(0, 0, 0);\"></td><td title=\"Index: [4, 2]&#10;Color: (0, 0, 0)\" style=\"width: 20px; height: 20px;background-color: rgb(0, 0, 0);\"></td><td title=\"Index: [4, 3]&#10;Color: (0, 0, 0)\" style=\"width: 20px; height: 20px;background-color: rgb(0, 0, 0);\"></td><td title=\"Index: [4, 4]&#10;Color: (0, 0, 0)\" style=\"width: 20px; height: 20px;background-color: rgb(0, 0, 0);\"></td><td title=\"Index: [4, 5]&#10;Color: (0, 0, 0)\" style=\"width: 20px; height: 20px;background-color: rgb(0, 0, 0);\"></td><td title=\"Index: [4, 6]&#10;Color: (0, 0, 0)\" style=\"width: 20px; height: 20px;background-color: rgb(0, 0, 0);\"></td><td title=\"Index: [4, 7]&#10;Color: (0, 0, 0)\" style=\"width: 20px; height: 20px;background-color: rgb(0, 0, 0);\"></td><td title=\"Index: [4, 8]&#10;Color: (0, 0, 0)\" style=\"width: 20px; height: 20px;background-color: rgb(0, 0, 0);\"></td><td title=\"Index: [4, 9]&#10;Color: (0, 0, 0)\" style=\"width: 20px; height: 20px;background-color: rgb(0, 0, 0);\"></td></tr><tr><td title=\"Index: [5, 0]&#10;Color: (0, 0, 0)\" style=\"width: 20px; height: 20px;background-color: rgb(0, 0, 0);\"></td><td title=\"Index: [5, 1]&#10;Color: (0, 0, 0)\" style=\"width: 20px; height: 20px;background-color: rgb(0, 0, 0);\"></td><td title=\"Index: [5, 2]&#10;Color: (0, 0, 0)\" style=\"width: 20px; height: 20px;background-color: rgb(0, 0, 0);\"></td><td title=\"Index: [5, 3]&#10;Color: (0, 0, 0)\" style=\"width: 20px; height: 20px;background-color: rgb(0, 0, 0);\"></td><td title=\"Index: [5, 4]&#10;Color: (0, 0, 0)\" style=\"width: 20px; height: 20px;background-color: rgb(0, 0, 0);\"></td><td title=\"Index: [5, 5]&#10;Color: (0, 0, 0)\" style=\"width: 20px; height: 20px;background-color: rgb(0, 0, 0);\"></td><td title=\"Index: [5, 6]&#10;Color: (0, 0, 0)\" style=\"width: 20px; height: 20px;background-color: rgb(0, 0, 0);\"></td><td title=\"Index: [5, 7]&#10;Color: (0, 0, 0)\" style=\"width: 20px; height: 20px;background-color: rgb(0, 0, 0);\"></td><td title=\"Index: [5, 8]&#10;Color: (0, 0, 0)\" style=\"width: 20px; height: 20px;background-color: rgb(0, 0, 0);\"></td><td title=\"Index: [5, 9]&#10;Color: (0, 0, 0)\" style=\"width: 20px; height: 20px;background-color: rgb(0, 0, 0);\"></td></tr><tr><td title=\"Index: [6, 0]&#10;Color: (0, 0, 0)\" style=\"width: 20px; height: 20px;background-color: rgb(0, 0, 0);\"></td><td title=\"Index: [6, 1]&#10;Color: (0, 0, 0)\" style=\"width: 20px; height: 20px;background-color: rgb(0, 0, 0);\"></td><td title=\"Index: [6, 2]&#10;Color: (0, 0, 0)\" style=\"width: 20px; height: 20px;background-color: rgb(0, 0, 0);\"></td><td title=\"Index: [6, 3]&#10;Color: (0, 0, 0)\" style=\"width: 20px; height: 20px;background-color: rgb(0, 0, 0);\"></td><td title=\"Index: [6, 4]&#10;Color: (0, 0, 0)\" style=\"width: 20px; height: 20px;background-color: rgb(0, 0, 0);\"></td><td title=\"Index: [6, 5]&#10;Color: (0, 0, 0)\" style=\"width: 20px; height: 20px;background-color: rgb(0, 0, 0);\"></td><td title=\"Index: [6, 6]&#10;Color: (0, 0, 0)\" style=\"width: 20px; height: 20px;background-color: rgb(0, 0, 0);\"></td><td title=\"Index: [6, 7]&#10;Color: (0, 0, 0)\" style=\"width: 20px; height: 20px;background-color: rgb(0, 0, 0);\"></td><td title=\"Index: [6, 8]&#10;Color: (0, 0, 0)\" style=\"width: 20px; height: 20px;background-color: rgb(0, 0, 0);\"></td><td title=\"Index: [6, 9]&#10;Color: (0, 0, 0)\" style=\"width: 20px; height: 20px;background-color: rgb(0, 0, 0);\"></td></tr><tr><td title=\"Index: [7, 0]&#10;Color: (0, 0, 0)\" style=\"width: 20px; height: 20px;background-color: rgb(0, 0, 0);\"></td><td title=\"Index: [7, 1]&#10;Color: (0, 0, 0)\" style=\"width: 20px; height: 20px;background-color: rgb(0, 0, 0);\"></td><td title=\"Index: [7, 2]&#10;Color: (0, 0, 0)\" style=\"width: 20px; height: 20px;background-color: rgb(0, 0, 0);\"></td><td title=\"Index: [7, 3]&#10;Color: (0, 0, 0)\" style=\"width: 20px; height: 20px;background-color: rgb(0, 0, 0);\"></td><td title=\"Index: [7, 4]&#10;Color: (0, 0, 0)\" style=\"width: 20px; height: 20px;background-color: rgb(0, 0, 0);\"></td><td title=\"Index: [7, 5]&#10;Color: (0, 0, 0)\" style=\"width: 20px; height: 20px;background-color: rgb(0, 0, 0);\"></td><td title=\"Index: [7, 6]&#10;Color: (0, 0, 0)\" style=\"width: 20px; height: 20px;background-color: rgb(0, 0, 0);\"></td><td title=\"Index: [7, 7]&#10;Color: (0, 0, 0)\" style=\"width: 20px; height: 20px;background-color: rgb(0, 0, 0);\"></td><td title=\"Index: [7, 8]&#10;Color: (0, 0, 0)\" style=\"width: 20px; height: 20px;background-color: rgb(0, 0, 0);\"></td><td title=\"Index: [7, 9]&#10;Color: (0, 0, 0)\" style=\"width: 20px; height: 20px;background-color: rgb(0, 0, 0);\"></td></tr><tr><td title=\"Index: [8, 0]&#10;Color: (0, 0, 0)\" style=\"width: 20px; height: 20px;background-color: rgb(0, 0, 0);\"></td><td title=\"Index: [8, 1]&#10;Color: (0, 0, 0)\" style=\"width: 20px; height: 20px;background-color: rgb(0, 0, 0);\"></td><td title=\"Index: [8, 2]&#10;Color: (0, 0, 0)\" style=\"width: 20px; height: 20px;background-color: rgb(0, 0, 0);\"></td><td title=\"Index: [8, 3]&#10;Color: (0, 0, 0)\" style=\"width: 20px; height: 20px;background-color: rgb(0, 0, 0);\"></td><td title=\"Index: [8, 4]&#10;Color: (0, 0, 0)\" style=\"width: 20px; height: 20px;background-color: rgb(0, 0, 0);\"></td><td title=\"Index: [8, 5]&#10;Color: (0, 0, 0)\" style=\"width: 20px; height: 20px;background-color: rgb(0, 0, 0);\"></td><td title=\"Index: [8, 6]&#10;Color: (0, 0, 0)\" style=\"width: 20px; height: 20px;background-color: rgb(0, 0, 0);\"></td><td title=\"Index: [8, 7]&#10;Color: (0, 0, 0)\" style=\"width: 20px; height: 20px;background-color: rgb(0, 0, 0);\"></td><td title=\"Index: [8, 8]&#10;Color: (0, 0, 0)\" style=\"width: 20px; height: 20px;background-color: rgb(0, 0, 0);\"></td><td title=\"Index: [8, 9]&#10;Color: (0, 0, 0)\" style=\"width: 20px; height: 20px;background-color: rgb(0, 0, 0);\"></td></tr><tr><td title=\"Index: [9, 0]&#10;Color: (0, 0, 0)\" style=\"width: 20px; height: 20px;background-color: rgb(0, 0, 0);\"></td><td title=\"Index: [9, 1]&#10;Color: (0, 0, 0)\" style=\"width: 20px; height: 20px;background-color: rgb(0, 0, 0);\"></td><td title=\"Index: [9, 2]&#10;Color: (0, 0, 0)\" style=\"width: 20px; height: 20px;background-color: rgb(0, 0, 0);\"></td><td title=\"Index: [9, 3]&#10;Color: (0, 0, 0)\" style=\"width: 20px; height: 20px;background-color: rgb(0, 0, 0);\"></td><td title=\"Index: [9, 4]&#10;Color: (0, 0, 0)\" style=\"width: 20px; height: 20px;background-color: rgb(0, 0, 0);\"></td><td title=\"Index: [9, 5]&#10;Color: (0, 0, 0)\" style=\"width: 20px; height: 20px;background-color: rgb(0, 0, 0);\"></td><td title=\"Index: [9, 6]&#10;Color: (0, 0, 0)\" style=\"width: 20px; height: 20px;background-color: rgb(0, 0, 0);\"></td><td title=\"Index: [9, 7]&#10;Color: (0, 0, 0)\" style=\"width: 20px; height: 20px;background-color: rgb(0, 0, 0);\"></td><td title=\"Index: [9, 8]&#10;Color: (0, 0, 0)\" style=\"width: 20px; height: 20px;background-color: rgb(0, 0, 0);\"></td><td title=\"Index: [9, 9]&#10;Color: (0, 0, 0)\" style=\"width: 20px; height: 20px;background-color: rgb(0, 0, 0);\"></td></tr></tbody></table>"
       ],
       "metadata": {},
       "output_type": "pyout",
       "prompt_number": 58,
       "text": [
        "<ipythonblocks.ipythonblocks.BlockGrid at 0x735c0b0>"
       ]
      }
     ],
     "prompt_number": 58
    },
    {
     "cell_type": "code",
     "collapsed": false,
     "input": [
      "\n",
      "\n",
      "def start(t=.3,size=10):\n",
      "    g=BlockGrid(size,size,fill=(0,0,0))    \n",
      "    q=t+((1-t)/2)\n",
      "    def val(i,j):\n",
      "        k=random.random()\n",
      "        if k <= t:\n",
      "            return 1\n",
      "        elif k<q:\n",
      "            return 2\n",
      "        else:\n",
      "            return 3\n",
      "    for i in range(size):\n",
      "        for j in range(size):\n",
      "            if val(i,j)==1:\n",
      "                g[i,j].red=100\n",
      "            elif val(i,j)==2:\n",
      "                g[i,j].blue=100\n",
      "            else:\n",
      "                g[i,j].green=100\n",
      "                \n",
      "    g.show()\n",
      "v=interact(start,t=(0,0.9),size=(1,50,1))\n",
      "\n"
     ],
     "language": "python",
     "metadata": {},
     "outputs": [
      {
       "html": [
        "<style type=\"text/css\">table.blockgrid {border: none;} .blockgrid tr {border: none;} .blockgrid td {padding: 0px;} #blocks5518447a-71f5-41fe-b603-a3850d87b73b td {border: 1px solid white;}</style><table id=\"blocks5518447a-71f5-41fe-b603-a3850d87b73b\" class=\"blockgrid\"><tbody><tr><td title=\"Index: [0, 0]&#10;Color: (100, 0, 0)\" style=\"width: 20px; height: 20px;background-color: rgb(100, 0, 0);\"></td><td title=\"Index: [0, 1]&#10;Color: (0, 0, 100)\" style=\"width: 20px; height: 20px;background-color: rgb(0, 0, 100);\"></td><td title=\"Index: [0, 2]&#10;Color: (0, 0, 100)\" style=\"width: 20px; height: 20px;background-color: rgb(0, 0, 100);\"></td><td title=\"Index: [0, 3]&#10;Color: (0, 100, 0)\" style=\"width: 20px; height: 20px;background-color: rgb(0, 100, 0);\"></td><td title=\"Index: [0, 4]&#10;Color: (100, 0, 0)\" style=\"width: 20px; height: 20px;background-color: rgb(100, 0, 0);\"></td><td title=\"Index: [0, 5]&#10;Color: (0, 100, 0)\" style=\"width: 20px; height: 20px;background-color: rgb(0, 100, 0);\"></td><td title=\"Index: [0, 6]&#10;Color: (100, 0, 0)\" style=\"width: 20px; height: 20px;background-color: rgb(100, 0, 0);\"></td><td title=\"Index: [0, 7]&#10;Color: (0, 0, 100)\" style=\"width: 20px; height: 20px;background-color: rgb(0, 0, 100);\"></td><td title=\"Index: [0, 8]&#10;Color: (0, 0, 100)\" style=\"width: 20px; height: 20px;background-color: rgb(0, 0, 100);\"></td><td title=\"Index: [0, 9]&#10;Color: (0, 100, 0)\" style=\"width: 20px; height: 20px;background-color: rgb(0, 100, 0);\"></td></tr><tr><td title=\"Index: [1, 0]&#10;Color: (0, 0, 100)\" style=\"width: 20px; height: 20px;background-color: rgb(0, 0, 100);\"></td><td title=\"Index: [1, 1]&#10;Color: (0, 100, 0)\" style=\"width: 20px; height: 20px;background-color: rgb(0, 100, 0);\"></td><td title=\"Index: [1, 2]&#10;Color: (100, 0, 0)\" style=\"width: 20px; height: 20px;background-color: rgb(100, 0, 0);\"></td><td title=\"Index: [1, 3]&#10;Color: (0, 100, 0)\" style=\"width: 20px; height: 20px;background-color: rgb(0, 100, 0);\"></td><td title=\"Index: [1, 4]&#10;Color: (0, 0, 100)\" style=\"width: 20px; height: 20px;background-color: rgb(0, 0, 100);\"></td><td title=\"Index: [1, 5]&#10;Color: (0, 100, 0)\" style=\"width: 20px; height: 20px;background-color: rgb(0, 100, 0);\"></td><td title=\"Index: [1, 6]&#10;Color: (0, 100, 0)\" style=\"width: 20px; height: 20px;background-color: rgb(0, 100, 0);\"></td><td title=\"Index: [1, 7]&#10;Color: (0, 0, 100)\" style=\"width: 20px; height: 20px;background-color: rgb(0, 0, 100);\"></td><td title=\"Index: [1, 8]&#10;Color: (0, 100, 0)\" style=\"width: 20px; height: 20px;background-color: rgb(0, 100, 0);\"></td><td title=\"Index: [1, 9]&#10;Color: (100, 0, 0)\" style=\"width: 20px; height: 20px;background-color: rgb(100, 0, 0);\"></td></tr><tr><td title=\"Index: [2, 0]&#10;Color: (0, 100, 0)\" style=\"width: 20px; height: 20px;background-color: rgb(0, 100, 0);\"></td><td title=\"Index: [2, 1]&#10;Color: (100, 0, 0)\" style=\"width: 20px; height: 20px;background-color: rgb(100, 0, 0);\"></td><td title=\"Index: [2, 2]&#10;Color: (0, 0, 100)\" style=\"width: 20px; height: 20px;background-color: rgb(0, 0, 100);\"></td><td title=\"Index: [2, 3]&#10;Color: (100, 0, 0)\" style=\"width: 20px; height: 20px;background-color: rgb(100, 0, 0);\"></td><td title=\"Index: [2, 4]&#10;Color: (0, 100, 0)\" style=\"width: 20px; height: 20px;background-color: rgb(0, 100, 0);\"></td><td title=\"Index: [2, 5]&#10;Color: (100, 0, 0)\" style=\"width: 20px; height: 20px;background-color: rgb(100, 0, 0);\"></td><td title=\"Index: [2, 6]&#10;Color: (0, 100, 0)\" style=\"width: 20px; height: 20px;background-color: rgb(0, 100, 0);\"></td><td title=\"Index: [2, 7]&#10;Color: (0, 0, 100)\" style=\"width: 20px; height: 20px;background-color: rgb(0, 0, 100);\"></td><td title=\"Index: [2, 8]&#10;Color: (0, 0, 100)\" style=\"width: 20px; height: 20px;background-color: rgb(0, 0, 100);\"></td><td title=\"Index: [2, 9]&#10;Color: (0, 100, 0)\" style=\"width: 20px; height: 20px;background-color: rgb(0, 100, 0);\"></td></tr><tr><td title=\"Index: [3, 0]&#10;Color: (0, 100, 0)\" style=\"width: 20px; height: 20px;background-color: rgb(0, 100, 0);\"></td><td title=\"Index: [3, 1]&#10;Color: (0, 100, 0)\" style=\"width: 20px; height: 20px;background-color: rgb(0, 100, 0);\"></td><td title=\"Index: [3, 2]&#10;Color: (0, 100, 0)\" style=\"width: 20px; height: 20px;background-color: rgb(0, 100, 0);\"></td><td title=\"Index: [3, 3]&#10;Color: (0, 100, 0)\" style=\"width: 20px; height: 20px;background-color: rgb(0, 100, 0);\"></td><td title=\"Index: [3, 4]&#10;Color: (0, 0, 100)\" style=\"width: 20px; height: 20px;background-color: rgb(0, 0, 100);\"></td><td title=\"Index: [3, 5]&#10;Color: (0, 0, 100)\" style=\"width: 20px; height: 20px;background-color: rgb(0, 0, 100);\"></td><td title=\"Index: [3, 6]&#10;Color: (100, 0, 0)\" style=\"width: 20px; height: 20px;background-color: rgb(100, 0, 0);\"></td><td title=\"Index: [3, 7]&#10;Color: (0, 100, 0)\" style=\"width: 20px; height: 20px;background-color: rgb(0, 100, 0);\"></td><td title=\"Index: [3, 8]&#10;Color: (0, 0, 100)\" style=\"width: 20px; height: 20px;background-color: rgb(0, 0, 100);\"></td><td title=\"Index: [3, 9]&#10;Color: (0, 100, 0)\" style=\"width: 20px; height: 20px;background-color: rgb(0, 100, 0);\"></td></tr><tr><td title=\"Index: [4, 0]&#10;Color: (0, 100, 0)\" style=\"width: 20px; height: 20px;background-color: rgb(0, 100, 0);\"></td><td title=\"Index: [4, 1]&#10;Color: (0, 0, 100)\" style=\"width: 20px; height: 20px;background-color: rgb(0, 0, 100);\"></td><td title=\"Index: [4, 2]&#10;Color: (0, 100, 0)\" style=\"width: 20px; height: 20px;background-color: rgb(0, 100, 0);\"></td><td title=\"Index: [4, 3]&#10;Color: (0, 100, 0)\" style=\"width: 20px; height: 20px;background-color: rgb(0, 100, 0);\"></td><td title=\"Index: [4, 4]&#10;Color: (0, 0, 100)\" style=\"width: 20px; height: 20px;background-color: rgb(0, 0, 100);\"></td><td title=\"Index: [4, 5]&#10;Color: (0, 100, 0)\" style=\"width: 20px; height: 20px;background-color: rgb(0, 100, 0);\"></td><td title=\"Index: [4, 6]&#10;Color: (0, 0, 100)\" style=\"width: 20px; height: 20px;background-color: rgb(0, 0, 100);\"></td><td title=\"Index: [4, 7]&#10;Color: (100, 0, 0)\" style=\"width: 20px; height: 20px;background-color: rgb(100, 0, 0);\"></td><td title=\"Index: [4, 8]&#10;Color: (0, 0, 100)\" style=\"width: 20px; height: 20px;background-color: rgb(0, 0, 100);\"></td><td title=\"Index: [4, 9]&#10;Color: (0, 0, 100)\" style=\"width: 20px; height: 20px;background-color: rgb(0, 0, 100);\"></td></tr><tr><td title=\"Index: [5, 0]&#10;Color: (0, 100, 0)\" style=\"width: 20px; height: 20px;background-color: rgb(0, 100, 0);\"></td><td title=\"Index: [5, 1]&#10;Color: (100, 0, 0)\" style=\"width: 20px; height: 20px;background-color: rgb(100, 0, 0);\"></td><td title=\"Index: [5, 2]&#10;Color: (0, 100, 0)\" style=\"width: 20px; height: 20px;background-color: rgb(0, 100, 0);\"></td><td title=\"Index: [5, 3]&#10;Color: (0, 0, 100)\" style=\"width: 20px; height: 20px;background-color: rgb(0, 0, 100);\"></td><td title=\"Index: [5, 4]&#10;Color: (0, 100, 0)\" style=\"width: 20px; height: 20px;background-color: rgb(0, 100, 0);\"></td><td title=\"Index: [5, 5]&#10;Color: (0, 100, 0)\" style=\"width: 20px; height: 20px;background-color: rgb(0, 100, 0);\"></td><td title=\"Index: [5, 6]&#10;Color: (100, 0, 0)\" style=\"width: 20px; height: 20px;background-color: rgb(100, 0, 0);\"></td><td title=\"Index: [5, 7]&#10;Color: (0, 100, 0)\" style=\"width: 20px; height: 20px;background-color: rgb(0, 100, 0);\"></td><td title=\"Index: [5, 8]&#10;Color: (0, 0, 100)\" style=\"width: 20px; height: 20px;background-color: rgb(0, 0, 100);\"></td><td title=\"Index: [5, 9]&#10;Color: (0, 100, 0)\" style=\"width: 20px; height: 20px;background-color: rgb(0, 100, 0);\"></td></tr><tr><td title=\"Index: [6, 0]&#10;Color: (100, 0, 0)\" style=\"width: 20px; height: 20px;background-color: rgb(100, 0, 0);\"></td><td title=\"Index: [6, 1]&#10;Color: (100, 0, 0)\" style=\"width: 20px; height: 20px;background-color: rgb(100, 0, 0);\"></td><td title=\"Index: [6, 2]&#10;Color: (100, 0, 0)\" style=\"width: 20px; height: 20px;background-color: rgb(100, 0, 0);\"></td><td title=\"Index: [6, 3]&#10;Color: (100, 0, 0)\" style=\"width: 20px; height: 20px;background-color: rgb(100, 0, 0);\"></td><td title=\"Index: [6, 4]&#10;Color: (0, 0, 100)\" style=\"width: 20px; height: 20px;background-color: rgb(0, 0, 100);\"></td><td title=\"Index: [6, 5]&#10;Color: (0, 0, 100)\" style=\"width: 20px; height: 20px;background-color: rgb(0, 0, 100);\"></td><td title=\"Index: [6, 6]&#10;Color: (100, 0, 0)\" style=\"width: 20px; height: 20px;background-color: rgb(100, 0, 0);\"></td><td title=\"Index: [6, 7]&#10;Color: (0, 0, 100)\" style=\"width: 20px; height: 20px;background-color: rgb(0, 0, 100);\"></td><td title=\"Index: [6, 8]&#10;Color: (0, 0, 100)\" style=\"width: 20px; height: 20px;background-color: rgb(0, 0, 100);\"></td><td title=\"Index: [6, 9]&#10;Color: (0, 100, 0)\" style=\"width: 20px; height: 20px;background-color: rgb(0, 100, 0);\"></td></tr><tr><td title=\"Index: [7, 0]&#10;Color: (0, 100, 0)\" style=\"width: 20px; height: 20px;background-color: rgb(0, 100, 0);\"></td><td title=\"Index: [7, 1]&#10;Color: (0, 100, 0)\" style=\"width: 20px; height: 20px;background-color: rgb(0, 100, 0);\"></td><td title=\"Index: [7, 2]&#10;Color: (0, 100, 0)\" style=\"width: 20px; height: 20px;background-color: rgb(0, 100, 0);\"></td><td title=\"Index: [7, 3]&#10;Color: (0, 100, 0)\" style=\"width: 20px; height: 20px;background-color: rgb(0, 100, 0);\"></td><td title=\"Index: [7, 4]&#10;Color: (0, 0, 100)\" style=\"width: 20px; height: 20px;background-color: rgb(0, 0, 100);\"></td><td title=\"Index: [7, 5]&#10;Color: (100, 0, 0)\" style=\"width: 20px; height: 20px;background-color: rgb(100, 0, 0);\"></td><td title=\"Index: [7, 6]&#10;Color: (0, 100, 0)\" style=\"width: 20px; height: 20px;background-color: rgb(0, 100, 0);\"></td><td title=\"Index: [7, 7]&#10;Color: (0, 0, 100)\" style=\"width: 20px; height: 20px;background-color: rgb(0, 0, 100);\"></td><td title=\"Index: [7, 8]&#10;Color: (0, 100, 0)\" style=\"width: 20px; height: 20px;background-color: rgb(0, 100, 0);\"></td><td title=\"Index: [7, 9]&#10;Color: (0, 0, 100)\" style=\"width: 20px; height: 20px;background-color: rgb(0, 0, 100);\"></td></tr><tr><td title=\"Index: [8, 0]&#10;Color: (100, 0, 0)\" style=\"width: 20px; height: 20px;background-color: rgb(100, 0, 0);\"></td><td title=\"Index: [8, 1]&#10;Color: (0, 0, 100)\" style=\"width: 20px; height: 20px;background-color: rgb(0, 0, 100);\"></td><td title=\"Index: [8, 2]&#10;Color: (0, 100, 0)\" style=\"width: 20px; height: 20px;background-color: rgb(0, 100, 0);\"></td><td title=\"Index: [8, 3]&#10;Color: (0, 100, 0)\" style=\"width: 20px; height: 20px;background-color: rgb(0, 100, 0);\"></td><td title=\"Index: [8, 4]&#10;Color: (0, 0, 100)\" style=\"width: 20px; height: 20px;background-color: rgb(0, 0, 100);\"></td><td title=\"Index: [8, 5]&#10;Color: (0, 100, 0)\" style=\"width: 20px; height: 20px;background-color: rgb(0, 100, 0);\"></td><td title=\"Index: [8, 6]&#10;Color: (0, 0, 100)\" style=\"width: 20px; height: 20px;background-color: rgb(0, 0, 100);\"></td><td title=\"Index: [8, 7]&#10;Color: (0, 100, 0)\" style=\"width: 20px; height: 20px;background-color: rgb(0, 100, 0);\"></td><td title=\"Index: [8, 8]&#10;Color: (0, 100, 0)\" style=\"width: 20px; height: 20px;background-color: rgb(0, 100, 0);\"></td><td title=\"Index: [8, 9]&#10;Color: (100, 0, 0)\" style=\"width: 20px; height: 20px;background-color: rgb(100, 0, 0);\"></td></tr><tr><td title=\"Index: [9, 0]&#10;Color: (0, 0, 100)\" style=\"width: 20px; height: 20px;background-color: rgb(0, 0, 100);\"></td><td title=\"Index: [9, 1]&#10;Color: (0, 100, 0)\" style=\"width: 20px; height: 20px;background-color: rgb(0, 100, 0);\"></td><td title=\"Index: [9, 2]&#10;Color: (0, 100, 0)\" style=\"width: 20px; height: 20px;background-color: rgb(0, 100, 0);\"></td><td title=\"Index: [9, 3]&#10;Color: (100, 0, 0)\" style=\"width: 20px; height: 20px;background-color: rgb(100, 0, 0);\"></td><td title=\"Index: [9, 4]&#10;Color: (0, 100, 0)\" style=\"width: 20px; height: 20px;background-color: rgb(0, 100, 0);\"></td><td title=\"Index: [9, 5]&#10;Color: (0, 100, 0)\" style=\"width: 20px; height: 20px;background-color: rgb(0, 100, 0);\"></td><td title=\"Index: [9, 6]&#10;Color: (0, 100, 0)\" style=\"width: 20px; height: 20px;background-color: rgb(0, 100, 0);\"></td><td title=\"Index: [9, 7]&#10;Color: (0, 100, 0)\" style=\"width: 20px; height: 20px;background-color: rgb(0, 100, 0);\"></td><td title=\"Index: [9, 8]&#10;Color: (0, 100, 0)\" style=\"width: 20px; height: 20px;background-color: rgb(0, 100, 0);\"></td><td title=\"Index: [9, 9]&#10;Color: (100, 0, 0)\" style=\"width: 20px; height: 20px;background-color: rgb(100, 0, 0);\"></td></tr></tbody></table>"
       ],
       "metadata": {},
       "output_type": "display_data",
       "text": [
        "<IPython.core.display.HTML at 0x735cb90>"
       ]
      }
     ],
     "prompt_number": 3
    },
    {
     "cell_type": "code",
     "collapsed": false,
     "input": [
      "size=10\n",
      "t=0.4\n",
      "g=BlockGrid(size,size,fill=(0,0,0))    \n",
      "q=.7\n",
      "\n",
      "def val(i,j):\n",
      "        k=random.random()\n",
      "        \n",
      "        if k<t:\n",
      "            return 0\n",
      "        elif k<q:\n",
      "            \n",
      "            return 1\n",
      "        else:\n",
      "            \n",
      "        \n",
      "            return -1\n",
      "def fll(i,j):\n",
      "    if val(i,j)==1:\n",
      "        g[i,j].red=100\n",
      "    elif val(i,j)==-1:\n",
      "        g[i,j].blue=100\n",
      "    else:\n",
      "        g[i,j].green=100\n",
      "for i in range(size):\n",
      "    for j in range(size):\n",
      "        fll(i,j)\n",
      "g.show()"
     ],
     "language": "python",
     "metadata": {},
     "outputs": [
      {
       "ename": "TypeError",
       "evalue": "random() takes no arguments (1 given)",
       "output_type": "pyerr",
       "traceback": [
        "\u001b[1;31m---------------------------------------------------------------------------\u001b[0m\n\u001b[1;31mTypeError\u001b[0m                                 Traceback (most recent call last)",
        "\u001b[1;32m<ipython-input-46-e13e83a7eb0f>\u001b[0m in \u001b[0;36m<module>\u001b[1;34m()\u001b[0m\n\u001b[0;32m     25\u001b[0m \u001b[1;32mfor\u001b[0m \u001b[0mi\u001b[0m \u001b[1;32min\u001b[0m \u001b[0mrange\u001b[0m\u001b[1;33m(\u001b[0m\u001b[0msize\u001b[0m\u001b[1;33m)\u001b[0m\u001b[1;33m:\u001b[0m\u001b[1;33m\u001b[0m\u001b[0m\n\u001b[0;32m     26\u001b[0m     \u001b[1;32mfor\u001b[0m \u001b[0mj\u001b[0m \u001b[1;32min\u001b[0m \u001b[0mrange\u001b[0m\u001b[1;33m(\u001b[0m\u001b[0msize\u001b[0m\u001b[1;33m)\u001b[0m\u001b[1;33m:\u001b[0m\u001b[1;33m\u001b[0m\u001b[0m\n\u001b[1;32m---> 27\u001b[1;33m         \u001b[0mfll\u001b[0m\u001b[1;33m(\u001b[0m\u001b[0mi\u001b[0m\u001b[1;33m,\u001b[0m\u001b[0mj\u001b[0m\u001b[1;33m)\u001b[0m\u001b[1;33m\u001b[0m\u001b[0m\n\u001b[0m\u001b[0;32m     28\u001b[0m \u001b[0mg\u001b[0m\u001b[1;33m.\u001b[0m\u001b[0mshow\u001b[0m\u001b[1;33m(\u001b[0m\u001b[1;33m)\u001b[0m\u001b[1;33m\u001b[0m\u001b[0m\n",
        "\u001b[1;32m<ipython-input-46-e13e83a7eb0f>\u001b[0m in \u001b[0;36mfll\u001b[1;34m(i, j)\u001b[0m\n\u001b[0;32m     17\u001b[0m             \u001b[1;32mreturn\u001b[0m \u001b[1;33m-\u001b[0m\u001b[1;36m1\u001b[0m\u001b[1;33m\u001b[0m\u001b[0m\n\u001b[0;32m     18\u001b[0m \u001b[1;32mdef\u001b[0m \u001b[0mfll\u001b[0m\u001b[1;33m(\u001b[0m\u001b[0mi\u001b[0m\u001b[1;33m,\u001b[0m\u001b[0mj\u001b[0m\u001b[1;33m)\u001b[0m\u001b[1;33m:\u001b[0m\u001b[1;33m\u001b[0m\u001b[0m\n\u001b[1;32m---> 19\u001b[1;33m     \u001b[1;32mif\u001b[0m \u001b[0mval\u001b[0m\u001b[1;33m(\u001b[0m\u001b[0mi\u001b[0m\u001b[1;33m,\u001b[0m\u001b[0mj\u001b[0m\u001b[1;33m)\u001b[0m\u001b[1;33m==\u001b[0m\u001b[1;36m1\u001b[0m\u001b[1;33m:\u001b[0m\u001b[1;33m\u001b[0m\u001b[0m\n\u001b[0m\u001b[0;32m     20\u001b[0m         \u001b[0mg\u001b[0m\u001b[1;33m[\u001b[0m\u001b[0mi\u001b[0m\u001b[1;33m,\u001b[0m\u001b[0mj\u001b[0m\u001b[1;33m]\u001b[0m\u001b[1;33m.\u001b[0m\u001b[0mred\u001b[0m\u001b[1;33m=\u001b[0m\u001b[1;36m100\u001b[0m\u001b[1;33m\u001b[0m\u001b[0m\n\u001b[0;32m     21\u001b[0m     \u001b[1;32melif\u001b[0m \u001b[0mval\u001b[0m\u001b[1;33m(\u001b[0m\u001b[0mi\u001b[0m\u001b[1;33m,\u001b[0m\u001b[0mj\u001b[0m\u001b[1;33m)\u001b[0m\u001b[1;33m==\u001b[0m\u001b[1;33m-\u001b[0m\u001b[1;36m1\u001b[0m\u001b[1;33m:\u001b[0m\u001b[1;33m\u001b[0m\u001b[0m\n",
        "\u001b[1;32m<ipython-input-46-e13e83a7eb0f>\u001b[0m in \u001b[0;36mval\u001b[1;34m(i, j)\u001b[0m\n\u001b[0;32m      5\u001b[0m \u001b[1;33m\u001b[0m\u001b[0m\n\u001b[0;32m      6\u001b[0m \u001b[1;32mdef\u001b[0m \u001b[0mval\u001b[0m\u001b[1;33m(\u001b[0m\u001b[0mi\u001b[0m\u001b[1;33m,\u001b[0m\u001b[0mj\u001b[0m\u001b[1;33m)\u001b[0m\u001b[1;33m:\u001b[0m\u001b[1;33m\u001b[0m\u001b[0m\n\u001b[1;32m----> 7\u001b[1;33m         \u001b[0mk\u001b[0m\u001b[1;33m=\u001b[0m\u001b[0mrandom\u001b[0m\u001b[1;33m.\u001b[0m\u001b[0mrandom\u001b[0m\u001b[1;33m(\u001b[0m\u001b[0mi\u001b[0m\u001b[1;33m)\u001b[0m\u001b[1;33m\u001b[0m\u001b[0m\n\u001b[0m\u001b[0;32m      8\u001b[0m \u001b[1;33m\u001b[0m\u001b[0m\n\u001b[0;32m      9\u001b[0m         \u001b[1;32mif\u001b[0m \u001b[0mk\u001b[0m\u001b[1;33m<\u001b[0m\u001b[0mt\u001b[0m\u001b[1;33m:\u001b[0m\u001b[1;33m\u001b[0m\u001b[0m\n",
        "\u001b[1;31mTypeError\u001b[0m: random() takes no arguments (1 given)"
       ]
      }
     ],
     "prompt_number": 46
    },
    {
     "cell_type": "code",
     "collapsed": false,
     "input": [
      "\n",
      "        \n",
      "            \n",
      "u2=0   \n",
      "u=0    \n",
      "T=0.5\n",
      "\n",
      "for i in range(size):\n",
      "    for j in range(size):\n",
      "        y=-1\n",
      "        if val(i,j)==1:\n",
      "            for k in range(2):\n",
      "                for g in range(2):\n",
      "                    y+=val(i+1-k,j+1-g)\n",
      "            if y<T*8-4:\n",
      "                switch(i,j)\n",
      "            u+=y\n",
      "            u2+=y**2\n",
      "        elif val(i,j)==-1:\n",
      "            for k in range(2):\n",
      "                for g in range(2):\n",
      "                    y-=val(i+1-k,j+1-g)\n",
      "            if y<T*8-4:\n",
      "                switch(i,j)\n",
      "            u+=y\n",
      "            u2+=y**2\n",
      "print u,u**2                \n",
      "        \n",
      "                    \n",
      "        "
     ],
     "language": "python",
     "metadata": {},
     "outputs": [
      {
       "output_type": "stream",
       "stream": "stdout",
       "text": [
        "-65 4225\n"
       ]
      }
     ],
     "prompt_number": 33
    },
    {
     "cell_type": "code",
     "collapsed": false,
     "input": [
      "def switch(x,y):\n",
      "    j=size*random.random()\n",
      "    l=size*random.random()\n",
      "    if val(j,l)==0:\n",
      "        if val(x,y)==1:\n",
      "            val(j,l)==1\n",
      "            val(x,y)==0\n",
      "        elif val(x,y)==-1:\n",
      "            val(j,l)==-1\n",
      "            val(x,y)==0\n",
      "        \n",
      "                \n",
      "                \n",
      "        "
     ],
     "language": "python",
     "metadata": {},
     "outputs": [],
     "prompt_number": 12
    },
    {
     "cell_type": "code",
     "collapsed": false,
     "input": [
      "switch(1,3)"
     ],
     "language": "python",
     "metadata": {},
     "outputs": [],
     "prompt_number": 27
    },
    {
     "cell_type": "code",
     "collapsed": false,
     "input": [
      "for i in range(size):\n",
      "    for j in range(size):\n",
      "        if val(i,j)==1:\n",
      "            g[i,j].red=100\n",
      "            g[i,j].green=0\n",
      "            g[i,j].blue=0\n",
      "        elif val(i,j)==-1:\n",
      "            g[i,j].red=0\n",
      "            g[i,j].green=0\n",
      "            g[i,j].blue=100\n",
      "        else:\n",
      "            g[i,j].red=0\n",
      "            g[i,j].green=100\n",
      "            g[i,j].blue=0\n",
      "g.show()"
     ],
     "language": "python",
     "metadata": {},
     "outputs": [
      {
       "html": [
        "<style type=\"text/css\">table.blockgrid {border: none;} .blockgrid tr {border: none;} .blockgrid td {padding: 0px;} #blocksf30cad0f-e748-48b0-9912-19884ca21be3 td {border: 1px solid white;}</style><table id=\"blocksf30cad0f-e748-48b0-9912-19884ca21be3\" class=\"blockgrid\"><tbody><tr><td title=\"Index: [0, 0]&#10;Color: (100, 0, 0)\" style=\"width: 20px; height: 20px;background-color: rgb(100, 0, 0);\"></td><td title=\"Index: [0, 1]&#10;Color: (100, 0, 0)\" style=\"width: 20px; height: 20px;background-color: rgb(100, 0, 0);\"></td><td title=\"Index: [0, 2]&#10;Color: (0, 0, 100)\" style=\"width: 20px; height: 20px;background-color: rgb(0, 0, 100);\"></td><td title=\"Index: [0, 3]&#10;Color: (0, 100, 0)\" style=\"width: 20px; height: 20px;background-color: rgb(0, 100, 0);\"></td><td title=\"Index: [0, 4]&#10;Color: (100, 0, 0)\" style=\"width: 20px; height: 20px;background-color: rgb(100, 0, 0);\"></td><td title=\"Index: [0, 5]&#10;Color: (0, 100, 0)\" style=\"width: 20px; height: 20px;background-color: rgb(0, 100, 0);\"></td><td title=\"Index: [0, 6]&#10;Color: (0, 0, 100)\" style=\"width: 20px; height: 20px;background-color: rgb(0, 0, 100);\"></td><td title=\"Index: [0, 7]&#10;Color: (0, 100, 0)\" style=\"width: 20px; height: 20px;background-color: rgb(0, 100, 0);\"></td><td title=\"Index: [0, 8]&#10;Color: (0, 0, 100)\" style=\"width: 20px; height: 20px;background-color: rgb(0, 0, 100);\"></td><td title=\"Index: [0, 9]&#10;Color: (0, 100, 0)\" style=\"width: 20px; height: 20px;background-color: rgb(0, 100, 0);\"></td></tr><tr><td title=\"Index: [1, 0]&#10;Color: (0, 100, 0)\" style=\"width: 20px; height: 20px;background-color: rgb(0, 100, 0);\"></td><td title=\"Index: [1, 1]&#10;Color: (0, 0, 100)\" style=\"width: 20px; height: 20px;background-color: rgb(0, 0, 100);\"></td><td title=\"Index: [1, 2]&#10;Color: (100, 0, 0)\" style=\"width: 20px; height: 20px;background-color: rgb(100, 0, 0);\"></td><td title=\"Index: [1, 3]&#10;Color: (100, 0, 0)\" style=\"width: 20px; height: 20px;background-color: rgb(100, 0, 0);\"></td><td title=\"Index: [1, 4]&#10;Color: (100, 0, 0)\" style=\"width: 20px; height: 20px;background-color: rgb(100, 0, 0);\"></td><td title=\"Index: [1, 5]&#10;Color: (0, 100, 0)\" style=\"width: 20px; height: 20px;background-color: rgb(0, 100, 0);\"></td><td title=\"Index: [1, 6]&#10;Color: (0, 0, 100)\" style=\"width: 20px; height: 20px;background-color: rgb(0, 0, 100);\"></td><td title=\"Index: [1, 7]&#10;Color: (0, 100, 0)\" style=\"width: 20px; height: 20px;background-color: rgb(0, 100, 0);\"></td><td title=\"Index: [1, 8]&#10;Color: (0, 100, 0)\" style=\"width: 20px; height: 20px;background-color: rgb(0, 100, 0);\"></td><td title=\"Index: [1, 9]&#10;Color: (0, 0, 100)\" style=\"width: 20px; height: 20px;background-color: rgb(0, 0, 100);\"></td></tr><tr><td title=\"Index: [2, 0]&#10;Color: (0, 0, 100)\" style=\"width: 20px; height: 20px;background-color: rgb(0, 0, 100);\"></td><td title=\"Index: [2, 1]&#10;Color: (0, 0, 100)\" style=\"width: 20px; height: 20px;background-color: rgb(0, 0, 100);\"></td><td title=\"Index: [2, 2]&#10;Color: (100, 0, 0)\" style=\"width: 20px; height: 20px;background-color: rgb(100, 0, 0);\"></td><td title=\"Index: [2, 3]&#10;Color: (0, 100, 0)\" style=\"width: 20px; height: 20px;background-color: rgb(0, 100, 0);\"></td><td title=\"Index: [2, 4]&#10;Color: (0, 0, 100)\" style=\"width: 20px; height: 20px;background-color: rgb(0, 0, 100);\"></td><td title=\"Index: [2, 5]&#10;Color: (0, 100, 0)\" style=\"width: 20px; height: 20px;background-color: rgb(0, 100, 0);\"></td><td title=\"Index: [2, 6]&#10;Color: (0, 0, 100)\" style=\"width: 20px; height: 20px;background-color: rgb(0, 0, 100);\"></td><td title=\"Index: [2, 7]&#10;Color: (0, 100, 0)\" style=\"width: 20px; height: 20px;background-color: rgb(0, 100, 0);\"></td><td title=\"Index: [2, 8]&#10;Color: (100, 0, 0)\" style=\"width: 20px; height: 20px;background-color: rgb(100, 0, 0);\"></td><td title=\"Index: [2, 9]&#10;Color: (0, 100, 0)\" style=\"width: 20px; height: 20px;background-color: rgb(0, 100, 0);\"></td></tr><tr><td title=\"Index: [3, 0]&#10;Color: (0, 100, 0)\" style=\"width: 20px; height: 20px;background-color: rgb(0, 100, 0);\"></td><td title=\"Index: [3, 1]&#10;Color: (100, 0, 0)\" style=\"width: 20px; height: 20px;background-color: rgb(100, 0, 0);\"></td><td title=\"Index: [3, 2]&#10;Color: (0, 0, 100)\" style=\"width: 20px; height: 20px;background-color: rgb(0, 0, 100);\"></td><td title=\"Index: [3, 3]&#10;Color: (0, 100, 0)\" style=\"width: 20px; height: 20px;background-color: rgb(0, 100, 0);\"></td><td title=\"Index: [3, 4]&#10;Color: (0, 100, 0)\" style=\"width: 20px; height: 20px;background-color: rgb(0, 100, 0);\"></td><td title=\"Index: [3, 5]&#10;Color: (0, 100, 0)\" style=\"width: 20px; height: 20px;background-color: rgb(0, 100, 0);\"></td><td title=\"Index: [3, 6]&#10;Color: (0, 0, 100)\" style=\"width: 20px; height: 20px;background-color: rgb(0, 0, 100);\"></td><td title=\"Index: [3, 7]&#10;Color: (0, 0, 100)\" style=\"width: 20px; height: 20px;background-color: rgb(0, 0, 100);\"></td><td title=\"Index: [3, 8]&#10;Color: (0, 100, 0)\" style=\"width: 20px; height: 20px;background-color: rgb(0, 100, 0);\"></td><td title=\"Index: [3, 9]&#10;Color: (0, 100, 0)\" style=\"width: 20px; height: 20px;background-color: rgb(0, 100, 0);\"></td></tr><tr><td title=\"Index: [4, 0]&#10;Color: (0, 0, 100)\" style=\"width: 20px; height: 20px;background-color: rgb(0, 0, 100);\"></td><td title=\"Index: [4, 1]&#10;Color: (0, 100, 0)\" style=\"width: 20px; height: 20px;background-color: rgb(0, 100, 0);\"></td><td title=\"Index: [4, 2]&#10;Color: (0, 100, 0)\" style=\"width: 20px; height: 20px;background-color: rgb(0, 100, 0);\"></td><td title=\"Index: [4, 3]&#10;Color: (0, 0, 100)\" style=\"width: 20px; height: 20px;background-color: rgb(0, 0, 100);\"></td><td title=\"Index: [4, 4]&#10;Color: (0, 100, 0)\" style=\"width: 20px; height: 20px;background-color: rgb(0, 100, 0);\"></td><td title=\"Index: [4, 5]&#10;Color: (0, 100, 0)\" style=\"width: 20px; height: 20px;background-color: rgb(0, 100, 0);\"></td><td title=\"Index: [4, 6]&#10;Color: (0, 100, 0)\" style=\"width: 20px; height: 20px;background-color: rgb(0, 100, 0);\"></td><td title=\"Index: [4, 7]&#10;Color: (100, 0, 0)\" style=\"width: 20px; height: 20px;background-color: rgb(100, 0, 0);\"></td><td title=\"Index: [4, 8]&#10;Color: (0, 100, 0)\" style=\"width: 20px; height: 20px;background-color: rgb(0, 100, 0);\"></td><td title=\"Index: [4, 9]&#10;Color: (0, 100, 0)\" style=\"width: 20px; height: 20px;background-color: rgb(0, 100, 0);\"></td></tr><tr><td title=\"Index: [5, 0]&#10;Color: (0, 0, 100)\" style=\"width: 20px; height: 20px;background-color: rgb(0, 0, 100);\"></td><td title=\"Index: [5, 1]&#10;Color: (0, 100, 0)\" style=\"width: 20px; height: 20px;background-color: rgb(0, 100, 0);\"></td><td title=\"Index: [5, 2]&#10;Color: (100, 0, 0)\" style=\"width: 20px; height: 20px;background-color: rgb(100, 0, 0);\"></td><td title=\"Index: [5, 3]&#10;Color: (0, 100, 0)\" style=\"width: 20px; height: 20px;background-color: rgb(0, 100, 0);\"></td><td title=\"Index: [5, 4]&#10;Color: (100, 0, 0)\" style=\"width: 20px; height: 20px;background-color: rgb(100, 0, 0);\"></td><td title=\"Index: [5, 5]&#10;Color: (100, 0, 0)\" style=\"width: 20px; height: 20px;background-color: rgb(100, 0, 0);\"></td><td title=\"Index: [5, 6]&#10;Color: (100, 0, 0)\" style=\"width: 20px; height: 20px;background-color: rgb(100, 0, 0);\"></td><td title=\"Index: [5, 7]&#10;Color: (0, 0, 100)\" style=\"width: 20px; height: 20px;background-color: rgb(0, 0, 100);\"></td><td title=\"Index: [5, 8]&#10;Color: (0, 100, 0)\" style=\"width: 20px; height: 20px;background-color: rgb(0, 100, 0);\"></td><td title=\"Index: [5, 9]&#10;Color: (0, 100, 0)\" style=\"width: 20px; height: 20px;background-color: rgb(0, 100, 0);\"></td></tr><tr><td title=\"Index: [6, 0]&#10;Color: (100, 0, 0)\" style=\"width: 20px; height: 20px;background-color: rgb(100, 0, 0);\"></td><td title=\"Index: [6, 1]&#10;Color: (0, 0, 100)\" style=\"width: 20px; height: 20px;background-color: rgb(0, 0, 100);\"></td><td title=\"Index: [6, 2]&#10;Color: (0, 0, 100)\" style=\"width: 20px; height: 20px;background-color: rgb(0, 0, 100);\"></td><td title=\"Index: [6, 3]&#10;Color: (0, 100, 0)\" style=\"width: 20px; height: 20px;background-color: rgb(0, 100, 0);\"></td><td title=\"Index: [6, 4]&#10;Color: (0, 100, 0)\" style=\"width: 20px; height: 20px;background-color: rgb(0, 100, 0);\"></td><td title=\"Index: [6, 5]&#10;Color: (0, 0, 100)\" style=\"width: 20px; height: 20px;background-color: rgb(0, 0, 100);\"></td><td title=\"Index: [6, 6]&#10;Color: (0, 100, 0)\" style=\"width: 20px; height: 20px;background-color: rgb(0, 100, 0);\"></td><td title=\"Index: [6, 7]&#10;Color: (0, 100, 0)\" style=\"width: 20px; height: 20px;background-color: rgb(0, 100, 0);\"></td><td title=\"Index: [6, 8]&#10;Color: (100, 0, 0)\" style=\"width: 20px; height: 20px;background-color: rgb(100, 0, 0);\"></td><td title=\"Index: [6, 9]&#10;Color: (0, 0, 100)\" style=\"width: 20px; height: 20px;background-color: rgb(0, 0, 100);\"></td></tr><tr><td title=\"Index: [7, 0]&#10;Color: (0, 100, 0)\" style=\"width: 20px; height: 20px;background-color: rgb(0, 100, 0);\"></td><td title=\"Index: [7, 1]&#10;Color: (100, 0, 0)\" style=\"width: 20px; height: 20px;background-color: rgb(100, 0, 0);\"></td><td title=\"Index: [7, 2]&#10;Color: (0, 0, 100)\" style=\"width: 20px; height: 20px;background-color: rgb(0, 0, 100);\"></td><td title=\"Index: [7, 3]&#10;Color: (0, 100, 0)\" style=\"width: 20px; height: 20px;background-color: rgb(0, 100, 0);\"></td><td title=\"Index: [7, 4]&#10;Color: (100, 0, 0)\" style=\"width: 20px; height: 20px;background-color: rgb(100, 0, 0);\"></td><td title=\"Index: [7, 5]&#10;Color: (0, 0, 100)\" style=\"width: 20px; height: 20px;background-color: rgb(0, 0, 100);\"></td><td title=\"Index: [7, 6]&#10;Color: (0, 100, 0)\" style=\"width: 20px; height: 20px;background-color: rgb(0, 100, 0);\"></td><td title=\"Index: [7, 7]&#10;Color: (0, 100, 0)\" style=\"width: 20px; height: 20px;background-color: rgb(0, 100, 0);\"></td><td title=\"Index: [7, 8]&#10;Color: (100, 0, 0)\" style=\"width: 20px; height: 20px;background-color: rgb(100, 0, 0);\"></td><td title=\"Index: [7, 9]&#10;Color: (0, 0, 100)\" style=\"width: 20px; height: 20px;background-color: rgb(0, 0, 100);\"></td></tr><tr><td title=\"Index: [8, 0]&#10;Color: (0, 100, 0)\" style=\"width: 20px; height: 20px;background-color: rgb(0, 100, 0);\"></td><td title=\"Index: [8, 1]&#10;Color: (0, 100, 0)\" style=\"width: 20px; height: 20px;background-color: rgb(0, 100, 0);\"></td><td title=\"Index: [8, 2]&#10;Color: (0, 0, 100)\" style=\"width: 20px; height: 20px;background-color: rgb(0, 0, 100);\"></td><td title=\"Index: [8, 3]&#10;Color: (100, 0, 0)\" style=\"width: 20px; height: 20px;background-color: rgb(100, 0, 0);\"></td><td title=\"Index: [8, 4]&#10;Color: (0, 100, 0)\" style=\"width: 20px; height: 20px;background-color: rgb(0, 100, 0);\"></td><td title=\"Index: [8, 5]&#10;Color: (0, 0, 100)\" style=\"width: 20px; height: 20px;background-color: rgb(0, 0, 100);\"></td><td title=\"Index: [8, 6]&#10;Color: (100, 0, 0)\" style=\"width: 20px; height: 20px;background-color: rgb(100, 0, 0);\"></td><td title=\"Index: [8, 7]&#10;Color: (100, 0, 0)\" style=\"width: 20px; height: 20px;background-color: rgb(100, 0, 0);\"></td><td title=\"Index: [8, 8]&#10;Color: (0, 100, 0)\" style=\"width: 20px; height: 20px;background-color: rgb(0, 100, 0);\"></td><td title=\"Index: [8, 9]&#10;Color: (0, 100, 0)\" style=\"width: 20px; height: 20px;background-color: rgb(0, 100, 0);\"></td></tr><tr><td title=\"Index: [9, 0]&#10;Color: (0, 100, 0)\" style=\"width: 20px; height: 20px;background-color: rgb(0, 100, 0);\"></td><td title=\"Index: [9, 1]&#10;Color: (100, 0, 0)\" style=\"width: 20px; height: 20px;background-color: rgb(100, 0, 0);\"></td><td title=\"Index: [9, 2]&#10;Color: (100, 0, 0)\" style=\"width: 20px; height: 20px;background-color: rgb(100, 0, 0);\"></td><td title=\"Index: [9, 3]&#10;Color: (0, 100, 0)\" style=\"width: 20px; height: 20px;background-color: rgb(0, 100, 0);\"></td><td title=\"Index: [9, 4]&#10;Color: (0, 100, 0)\" style=\"width: 20px; height: 20px;background-color: rgb(0, 100, 0);\"></td><td title=\"Index: [9, 5]&#10;Color: (0, 100, 0)\" style=\"width: 20px; height: 20px;background-color: rgb(0, 100, 0);\"></td><td title=\"Index: [9, 6]&#10;Color: (0, 100, 0)\" style=\"width: 20px; height: 20px;background-color: rgb(0, 100, 0);\"></td><td title=\"Index: [9, 7]&#10;Color: (100, 0, 0)\" style=\"width: 20px; height: 20px;background-color: rgb(100, 0, 0);\"></td><td title=\"Index: [9, 8]&#10;Color: (100, 0, 0)\" style=\"width: 20px; height: 20px;background-color: rgb(100, 0, 0);\"></td><td title=\"Index: [9, 9]&#10;Color: (0, 100, 0)\" style=\"width: 20px; height: 20px;background-color: rgb(0, 100, 0);\"></td></tr></tbody></table>"
       ],
       "metadata": {},
       "output_type": "display_data",
       "text": [
        "<IPython.core.display.HTML at 0x7404670>"
       ]
      }
     ],
     "prompt_number": 45
    },
    {
     "cell_type": "code",
     "collapsed": false,
     "input": [
      "Cs= (u**2-u2)/T"
     ],
     "language": "python",
     "metadata": {},
     "outputs": [
      {
       "output_type": "stream",
       "stream": "stderr",
       "text": [
        "-c:1: RuntimeWarning: divide by zero encountered in divide\n"
       ]
      }
     ],
     "prompt_number": 87
    },
    {
     "cell_type": "code",
     "collapsed": false,
     "input": [
      "x2=np.zeros((size,size))"
     ],
     "language": "python",
     "metadata": {},
     "outputs": [],
     "prompt_number": 50
    },
    {
     "cell_type": "code",
     "collapsed": false,
     "input": [
      "for i in range(size):\n",
      "    for j in range(size):\n",
      "        k=random.random()\n",
      "        if k<t:\n",
      "            x2[i,j]=0\n",
      "        elif k<q:\n",
      "            x2[i,j]=1\n",
      "        else:\n",
      "            x2[i,j]=-1\n",
      "print x2"
     ],
     "language": "python",
     "metadata": {},
     "outputs": [
      {
       "output_type": "stream",
       "stream": "stdout",
       "text": [
        "[[-1. -1.  1. -1. -1.  1.  0.  0. -1.  1.]\n",
        " [-1. -1.  0.  1. -1.  0.  1.  1.  1.  0.]\n",
        " [ 0. -1.  1.  0. -1.  0. -1.  0.  0. -1.]\n",
        " [ 1.  1.  0.  0. -1.  0. -1.  1.  0. -1.]\n",
        " [-1.  0.  1.  0.  0. -1.  0. -1. -1.  1.]\n",
        " [ 1. -1.  0. -1.  1. -1.  0.  1. -1.  0.]\n",
        " [ 1. -1.  0.  0.  0.  0. -1.  0.  0.  0.]\n",
        " [ 1.  0.  0.  1.  1.  0. -1.  0.  0. -1.]\n",
        " [ 0.  0. -1. -1.  1.  1.  0.  0.  0. -1.]\n",
        " [ 0. -1. -1. -1.  1.  1. -1.  0. -1.  1.]]\n"
       ]
      }
     ],
     "prompt_number": 51
    },
    {
     "cell_type": "code",
     "collapsed": false,
     "input": [
      "u2=0   \n",
      "u=0    \n",
      "T=np.arange(0.1,1,0.1)\n",
      "def switch(x,y):\n",
      "    j=int(size*random.random())\n",
      "    l=int(size*random.random())\n",
      "    if x2[j,l]==0:\n",
      "        if x2[x,y]==1:\n",
      "            x2[j,l]==1\n",
      "            x2[x,y]==0\n",
      "        elif x2[x,y]==-1:\n",
      "            x2[j,l]==-1\n",
      "            x2[x,y]==0\n",
      "        \n",
      "\n",
      "for i in range(size-1):\n",
      "    for j in range(size-1):\n",
      "        y=-1\n",
      "        if x2[i,j]==1:\n",
      "            for k in range(2):\n",
      "                for g in range(2):\n",
      "                    y+=x2[i+1-k,j+1-g]\n",
      "            if y<T[1]*8-4:\n",
      "                switch(i,j)\n",
      "            u+=y\n",
      "            u2+=y**2\n",
      "        elif x2[i,j]==-1:\n",
      "            for k in range(2):\n",
      "                for g in range(2):\n",
      "                    y-=x2[i+1-k,j+1-g]\n",
      "            if y<T[1]*8-4:\n",
      "                switch(i,j)\n",
      "            u+=y\n",
      "            u2+=y**2\n",
      "print u,u**2           \n",
      "print x2"
     ],
     "language": "python",
     "metadata": {},
     "outputs": [
      {
       "output_type": "stream",
       "stream": "stdout",
       "text": [
        "11.0 121.0\n",
        "[[-1. -1.  1. -1. -1.  1.  0.  0. -1.  1.]\n",
        " [-1. -1.  0.  1. -1.  0.  1.  1.  1.  0.]\n",
        " [ 0. -1.  1.  0. -1.  0. -1.  0.  0. -1.]\n",
        " [ 1.  1.  0.  0. -1.  0. -1.  1.  0. -1.]\n",
        " [-1.  0.  1.  0.  0. -1.  0. -1. -1.  1.]\n",
        " [ 1. -1.  0. -1.  1. -1.  0.  1. -1.  0.]\n",
        " [ 1. -1.  0.  0.  0.  0. -1.  0.  0.  0.]\n",
        " [ 1.  0.  0.  1.  1.  0. -1.  0.  0. -1.]\n",
        " [ 0.  0. -1. -1.  1.  1.  0.  0.  0. -1.]\n",
        " [ 0. -1. -1. -1.  1.  1. -1.  0. -1.  1.]]\n"
       ]
      }
     ],
     "prompt_number": 88
    },
    {
     "cell_type": "code",
     "collapsed": false,
     "input": [
      "g=BlockGrid(size,size,fill=(0,0,0))\n",
      "for i in range(size):\n",
      "    for j in range(size):\n",
      "        if x2[i,j]==1:\n",
      "            g[i,j].red=100\n",
      "            g[i,j].green=0\n",
      "            g[i,j].blue=0\n",
      "        elif x2[i,j]==-1:\n",
      "            g[i,j].red=0\n",
      "            g[i,j].green=0\n",
      "            g[i,j].blue=100\n",
      "        else:\n",
      "            g[i,j].red=0\n",
      "            g[i,j].green=100\n",
      "            g[i,j].blue=0\n",
      "g.show()"
     ],
     "language": "python",
     "metadata": {},
     "outputs": [
      {
       "html": [
        "<style type=\"text/css\">table.blockgrid {border: none;} .blockgrid tr {border: none;} .blockgrid td {padding: 0px;} #blocks6284575a-5671-4781-b71f-1cd067e05362 td {border: 1px solid white;}</style><table id=\"blocks6284575a-5671-4781-b71f-1cd067e05362\" class=\"blockgrid\"><tbody><tr><td title=\"Index: [0, 0]&#10;Color: (0, 0, 100)\" style=\"width: 20px; height: 20px;background-color: rgb(0, 0, 100);\"></td><td title=\"Index: [0, 1]&#10;Color: (0, 0, 100)\" style=\"width: 20px; height: 20px;background-color: rgb(0, 0, 100);\"></td><td title=\"Index: [0, 2]&#10;Color: (100, 0, 0)\" style=\"width: 20px; height: 20px;background-color: rgb(100, 0, 0);\"></td><td title=\"Index: [0, 3]&#10;Color: (0, 0, 100)\" style=\"width: 20px; height: 20px;background-color: rgb(0, 0, 100);\"></td><td title=\"Index: [0, 4]&#10;Color: (0, 0, 100)\" style=\"width: 20px; height: 20px;background-color: rgb(0, 0, 100);\"></td><td title=\"Index: [0, 5]&#10;Color: (100, 0, 0)\" style=\"width: 20px; height: 20px;background-color: rgb(100, 0, 0);\"></td><td title=\"Index: [0, 6]&#10;Color: (0, 100, 0)\" style=\"width: 20px; height: 20px;background-color: rgb(0, 100, 0);\"></td><td title=\"Index: [0, 7]&#10;Color: (0, 100, 0)\" style=\"width: 20px; height: 20px;background-color: rgb(0, 100, 0);\"></td><td title=\"Index: [0, 8]&#10;Color: (0, 0, 100)\" style=\"width: 20px; height: 20px;background-color: rgb(0, 0, 100);\"></td><td title=\"Index: [0, 9]&#10;Color: (100, 0, 0)\" style=\"width: 20px; height: 20px;background-color: rgb(100, 0, 0);\"></td></tr><tr><td title=\"Index: [1, 0]&#10;Color: (0, 0, 100)\" style=\"width: 20px; height: 20px;background-color: rgb(0, 0, 100);\"></td><td title=\"Index: [1, 1]&#10;Color: (0, 0, 100)\" style=\"width: 20px; height: 20px;background-color: rgb(0, 0, 100);\"></td><td title=\"Index: [1, 2]&#10;Color: (0, 100, 0)\" style=\"width: 20px; height: 20px;background-color: rgb(0, 100, 0);\"></td><td title=\"Index: [1, 3]&#10;Color: (100, 0, 0)\" style=\"width: 20px; height: 20px;background-color: rgb(100, 0, 0);\"></td><td title=\"Index: [1, 4]&#10;Color: (0, 0, 100)\" style=\"width: 20px; height: 20px;background-color: rgb(0, 0, 100);\"></td><td title=\"Index: [1, 5]&#10;Color: (0, 100, 0)\" style=\"width: 20px; height: 20px;background-color: rgb(0, 100, 0);\"></td><td title=\"Index: [1, 6]&#10;Color: (100, 0, 0)\" style=\"width: 20px; height: 20px;background-color: rgb(100, 0, 0);\"></td><td title=\"Index: [1, 7]&#10;Color: (100, 0, 0)\" style=\"width: 20px; height: 20px;background-color: rgb(100, 0, 0);\"></td><td title=\"Index: [1, 8]&#10;Color: (100, 0, 0)\" style=\"width: 20px; height: 20px;background-color: rgb(100, 0, 0);\"></td><td title=\"Index: [1, 9]&#10;Color: (0, 100, 0)\" style=\"width: 20px; height: 20px;background-color: rgb(0, 100, 0);\"></td></tr><tr><td title=\"Index: [2, 0]&#10;Color: (0, 100, 0)\" style=\"width: 20px; height: 20px;background-color: rgb(0, 100, 0);\"></td><td title=\"Index: [2, 1]&#10;Color: (0, 0, 100)\" style=\"width: 20px; height: 20px;background-color: rgb(0, 0, 100);\"></td><td title=\"Index: [2, 2]&#10;Color: (100, 0, 0)\" style=\"width: 20px; height: 20px;background-color: rgb(100, 0, 0);\"></td><td title=\"Index: [2, 3]&#10;Color: (0, 100, 0)\" style=\"width: 20px; height: 20px;background-color: rgb(0, 100, 0);\"></td><td title=\"Index: [2, 4]&#10;Color: (0, 0, 100)\" style=\"width: 20px; height: 20px;background-color: rgb(0, 0, 100);\"></td><td title=\"Index: [2, 5]&#10;Color: (0, 100, 0)\" style=\"width: 20px; height: 20px;background-color: rgb(0, 100, 0);\"></td><td title=\"Index: [2, 6]&#10;Color: (0, 0, 100)\" style=\"width: 20px; height: 20px;background-color: rgb(0, 0, 100);\"></td><td title=\"Index: [2, 7]&#10;Color: (0, 100, 0)\" style=\"width: 20px; height: 20px;background-color: rgb(0, 100, 0);\"></td><td title=\"Index: [2, 8]&#10;Color: (0, 100, 0)\" style=\"width: 20px; height: 20px;background-color: rgb(0, 100, 0);\"></td><td title=\"Index: [2, 9]&#10;Color: (0, 0, 100)\" style=\"width: 20px; height: 20px;background-color: rgb(0, 0, 100);\"></td></tr><tr><td title=\"Index: [3, 0]&#10;Color: (100, 0, 0)\" style=\"width: 20px; height: 20px;background-color: rgb(100, 0, 0);\"></td><td title=\"Index: [3, 1]&#10;Color: (100, 0, 0)\" style=\"width: 20px; height: 20px;background-color: rgb(100, 0, 0);\"></td><td title=\"Index: [3, 2]&#10;Color: (0, 100, 0)\" style=\"width: 20px; height: 20px;background-color: rgb(0, 100, 0);\"></td><td title=\"Index: [3, 3]&#10;Color: (0, 100, 0)\" style=\"width: 20px; height: 20px;background-color: rgb(0, 100, 0);\"></td><td title=\"Index: [3, 4]&#10;Color: (0, 0, 100)\" style=\"width: 20px; height: 20px;background-color: rgb(0, 0, 100);\"></td><td title=\"Index: [3, 5]&#10;Color: (0, 100, 0)\" style=\"width: 20px; height: 20px;background-color: rgb(0, 100, 0);\"></td><td title=\"Index: [3, 6]&#10;Color: (0, 0, 100)\" style=\"width: 20px; height: 20px;background-color: rgb(0, 0, 100);\"></td><td title=\"Index: [3, 7]&#10;Color: (100, 0, 0)\" style=\"width: 20px; height: 20px;background-color: rgb(100, 0, 0);\"></td><td title=\"Index: [3, 8]&#10;Color: (0, 100, 0)\" style=\"width: 20px; height: 20px;background-color: rgb(0, 100, 0);\"></td><td title=\"Index: [3, 9]&#10;Color: (0, 0, 100)\" style=\"width: 20px; height: 20px;background-color: rgb(0, 0, 100);\"></td></tr><tr><td title=\"Index: [4, 0]&#10;Color: (0, 0, 100)\" style=\"width: 20px; height: 20px;background-color: rgb(0, 0, 100);\"></td><td title=\"Index: [4, 1]&#10;Color: (0, 100, 0)\" style=\"width: 20px; height: 20px;background-color: rgb(0, 100, 0);\"></td><td title=\"Index: [4, 2]&#10;Color: (100, 0, 0)\" style=\"width: 20px; height: 20px;background-color: rgb(100, 0, 0);\"></td><td title=\"Index: [4, 3]&#10;Color: (0, 100, 0)\" style=\"width: 20px; height: 20px;background-color: rgb(0, 100, 0);\"></td><td title=\"Index: [4, 4]&#10;Color: (0, 100, 0)\" style=\"width: 20px; height: 20px;background-color: rgb(0, 100, 0);\"></td><td title=\"Index: [4, 5]&#10;Color: (0, 0, 100)\" style=\"width: 20px; height: 20px;background-color: rgb(0, 0, 100);\"></td><td title=\"Index: [4, 6]&#10;Color: (0, 100, 0)\" style=\"width: 20px; height: 20px;background-color: rgb(0, 100, 0);\"></td><td title=\"Index: [4, 7]&#10;Color: (0, 0, 100)\" style=\"width: 20px; height: 20px;background-color: rgb(0, 0, 100);\"></td><td title=\"Index: [4, 8]&#10;Color: (0, 0, 100)\" style=\"width: 20px; height: 20px;background-color: rgb(0, 0, 100);\"></td><td title=\"Index: [4, 9]&#10;Color: (100, 0, 0)\" style=\"width: 20px; height: 20px;background-color: rgb(100, 0, 0);\"></td></tr><tr><td title=\"Index: [5, 0]&#10;Color: (100, 0, 0)\" style=\"width: 20px; height: 20px;background-color: rgb(100, 0, 0);\"></td><td title=\"Index: [5, 1]&#10;Color: (0, 0, 100)\" style=\"width: 20px; height: 20px;background-color: rgb(0, 0, 100);\"></td><td title=\"Index: [5, 2]&#10;Color: (0, 100, 0)\" style=\"width: 20px; height: 20px;background-color: rgb(0, 100, 0);\"></td><td title=\"Index: [5, 3]&#10;Color: (0, 0, 100)\" style=\"width: 20px; height: 20px;background-color: rgb(0, 0, 100);\"></td><td title=\"Index: [5, 4]&#10;Color: (100, 0, 0)\" style=\"width: 20px; height: 20px;background-color: rgb(100, 0, 0);\"></td><td title=\"Index: [5, 5]&#10;Color: (0, 0, 100)\" style=\"width: 20px; height: 20px;background-color: rgb(0, 0, 100);\"></td><td title=\"Index: [5, 6]&#10;Color: (0, 100, 0)\" style=\"width: 20px; height: 20px;background-color: rgb(0, 100, 0);\"></td><td title=\"Index: [5, 7]&#10;Color: (100, 0, 0)\" style=\"width: 20px; height: 20px;background-color: rgb(100, 0, 0);\"></td><td title=\"Index: [5, 8]&#10;Color: (0, 0, 100)\" style=\"width: 20px; height: 20px;background-color: rgb(0, 0, 100);\"></td><td title=\"Index: [5, 9]&#10;Color: (0, 100, 0)\" style=\"width: 20px; height: 20px;background-color: rgb(0, 100, 0);\"></td></tr><tr><td title=\"Index: [6, 0]&#10;Color: (100, 0, 0)\" style=\"width: 20px; height: 20px;background-color: rgb(100, 0, 0);\"></td><td title=\"Index: [6, 1]&#10;Color: (0, 0, 100)\" style=\"width: 20px; height: 20px;background-color: rgb(0, 0, 100);\"></td><td title=\"Index: [6, 2]&#10;Color: (0, 100, 0)\" style=\"width: 20px; height: 20px;background-color: rgb(0, 100, 0);\"></td><td title=\"Index: [6, 3]&#10;Color: (0, 100, 0)\" style=\"width: 20px; height: 20px;background-color: rgb(0, 100, 0);\"></td><td title=\"Index: [6, 4]&#10;Color: (0, 100, 0)\" style=\"width: 20px; height: 20px;background-color: rgb(0, 100, 0);\"></td><td title=\"Index: [6, 5]&#10;Color: (0, 100, 0)\" style=\"width: 20px; height: 20px;background-color: rgb(0, 100, 0);\"></td><td title=\"Index: [6, 6]&#10;Color: (0, 0, 100)\" style=\"width: 20px; height: 20px;background-color: rgb(0, 0, 100);\"></td><td title=\"Index: [6, 7]&#10;Color: (0, 100, 0)\" style=\"width: 20px; height: 20px;background-color: rgb(0, 100, 0);\"></td><td title=\"Index: [6, 8]&#10;Color: (0, 100, 0)\" style=\"width: 20px; height: 20px;background-color: rgb(0, 100, 0);\"></td><td title=\"Index: [6, 9]&#10;Color: (0, 100, 0)\" style=\"width: 20px; height: 20px;background-color: rgb(0, 100, 0);\"></td></tr><tr><td title=\"Index: [7, 0]&#10;Color: (100, 0, 0)\" style=\"width: 20px; height: 20px;background-color: rgb(100, 0, 0);\"></td><td title=\"Index: [7, 1]&#10;Color: (0, 100, 0)\" style=\"width: 20px; height: 20px;background-color: rgb(0, 100, 0);\"></td><td title=\"Index: [7, 2]&#10;Color: (0, 100, 0)\" style=\"width: 20px; height: 20px;background-color: rgb(0, 100, 0);\"></td><td title=\"Index: [7, 3]&#10;Color: (100, 0, 0)\" style=\"width: 20px; height: 20px;background-color: rgb(100, 0, 0);\"></td><td title=\"Index: [7, 4]&#10;Color: (100, 0, 0)\" style=\"width: 20px; height: 20px;background-color: rgb(100, 0, 0);\"></td><td title=\"Index: [7, 5]&#10;Color: (0, 100, 0)\" style=\"width: 20px; height: 20px;background-color: rgb(0, 100, 0);\"></td><td title=\"Index: [7, 6]&#10;Color: (0, 0, 100)\" style=\"width: 20px; height: 20px;background-color: rgb(0, 0, 100);\"></td><td title=\"Index: [7, 7]&#10;Color: (0, 100, 0)\" style=\"width: 20px; height: 20px;background-color: rgb(0, 100, 0);\"></td><td title=\"Index: [7, 8]&#10;Color: (0, 100, 0)\" style=\"width: 20px; height: 20px;background-color: rgb(0, 100, 0);\"></td><td title=\"Index: [7, 9]&#10;Color: (0, 0, 100)\" style=\"width: 20px; height: 20px;background-color: rgb(0, 0, 100);\"></td></tr><tr><td title=\"Index: [8, 0]&#10;Color: (0, 100, 0)\" style=\"width: 20px; height: 20px;background-color: rgb(0, 100, 0);\"></td><td title=\"Index: [8, 1]&#10;Color: (0, 100, 0)\" style=\"width: 20px; height: 20px;background-color: rgb(0, 100, 0);\"></td><td title=\"Index: [8, 2]&#10;Color: (0, 0, 100)\" style=\"width: 20px; height: 20px;background-color: rgb(0, 0, 100);\"></td><td title=\"Index: [8, 3]&#10;Color: (0, 0, 100)\" style=\"width: 20px; height: 20px;background-color: rgb(0, 0, 100);\"></td><td title=\"Index: [8, 4]&#10;Color: (100, 0, 0)\" style=\"width: 20px; height: 20px;background-color: rgb(100, 0, 0);\"></td><td title=\"Index: [8, 5]&#10;Color: (100, 0, 0)\" style=\"width: 20px; height: 20px;background-color: rgb(100, 0, 0);\"></td><td title=\"Index: [8, 6]&#10;Color: (0, 100, 0)\" style=\"width: 20px; height: 20px;background-color: rgb(0, 100, 0);\"></td><td title=\"Index: [8, 7]&#10;Color: (0, 100, 0)\" style=\"width: 20px; height: 20px;background-color: rgb(0, 100, 0);\"></td><td title=\"Index: [8, 8]&#10;Color: (0, 100, 0)\" style=\"width: 20px; height: 20px;background-color: rgb(0, 100, 0);\"></td><td title=\"Index: [8, 9]&#10;Color: (0, 0, 100)\" style=\"width: 20px; height: 20px;background-color: rgb(0, 0, 100);\"></td></tr><tr><td title=\"Index: [9, 0]&#10;Color: (0, 100, 0)\" style=\"width: 20px; height: 20px;background-color: rgb(0, 100, 0);\"></td><td title=\"Index: [9, 1]&#10;Color: (0, 0, 100)\" style=\"width: 20px; height: 20px;background-color: rgb(0, 0, 100);\"></td><td title=\"Index: [9, 2]&#10;Color: (0, 0, 100)\" style=\"width: 20px; height: 20px;background-color: rgb(0, 0, 100);\"></td><td title=\"Index: [9, 3]&#10;Color: (0, 0, 100)\" style=\"width: 20px; height: 20px;background-color: rgb(0, 0, 100);\"></td><td title=\"Index: [9, 4]&#10;Color: (100, 0, 0)\" style=\"width: 20px; height: 20px;background-color: rgb(100, 0, 0);\"></td><td title=\"Index: [9, 5]&#10;Color: (100, 0, 0)\" style=\"width: 20px; height: 20px;background-color: rgb(100, 0, 0);\"></td><td title=\"Index: [9, 6]&#10;Color: (0, 0, 100)\" style=\"width: 20px; height: 20px;background-color: rgb(0, 0, 100);\"></td><td title=\"Index: [9, 7]&#10;Color: (0, 100, 0)\" style=\"width: 20px; height: 20px;background-color: rgb(0, 100, 0);\"></td><td title=\"Index: [9, 8]&#10;Color: (0, 0, 100)\" style=\"width: 20px; height: 20px;background-color: rgb(0, 0, 100);\"></td><td title=\"Index: [9, 9]&#10;Color: (100, 0, 0)\" style=\"width: 20px; height: 20px;background-color: rgb(100, 0, 0);\"></td></tr></tbody></table>"
       ],
       "metadata": {},
       "output_type": "display_data",
       "text": [
        "<IPython.core.display.HTML at 0x74bc330>"
       ]
      }
     ],
     "prompt_number": 62
    },
    {
     "cell_type": "code",
     "collapsed": false,
     "input": [
      "\n",
      "Cs= (u**2-u2)/(1-T)**2\n",
      "plt.plot(T,Cs)\n"
     ],
     "language": "python",
     "metadata": {},
     "outputs": [
      {
       "metadata": {},
       "output_type": "pyout",
       "prompt_number": 111,
       "text": [
        "[<matplotlib.lines.Line2D at 0x8d6d1d0>]"
       ]
      },
      {
       "metadata": {},
       "output_type": "display_data",
       "png": "[encoded data removed]",
       "text": [
        "<matplotlib.figure.Figure at 0x8d49250>"
       ]
      }
     ],
     "prompt_number": 111
    },
    {
     "cell_type": "code",
     "collapsed": false,
     "input": [
      "t=.9\n",
      "q=.95\n",
      "for i in range(size):\n",
      "    for j in range(size):\n",
      "        k=random.random()\n",
      "        if k<t:\n",
      "            x2[i,j]=0\n",
      "        elif k<q:\n",
      "            x2[i,j]=1\n",
      "        else:\n",
      "            x2[i,j]=-1\n",
      "print x2\n",
      "u2=0   \n",
      "u=0    \n",
      "T=np.arange(0.1,1,0.1)\n",
      "def switch(x,y):\n",
      "    j=int(size*random.random())\n",
      "    l=int(size*random.random())\n",
      "    if x2[j,l]==0:\n",
      "        if x2[x,y]==1:\n",
      "            x2[j,l]==1\n",
      "            x2[x,y]==0\n",
      "        elif x2[x,y]==-1:\n",
      "            x2[j,l]==-1\n",
      "            x2[x,y]==0\n",
      "        \n",
      "\n",
      "for i in range(size-1):\n",
      "    for j in range(size-1):\n",
      "        y=-1\n",
      "        if x2[i,j]==1:\n",
      "            for k in range(2):\n",
      "                for g in range(2):\n",
      "                    y+=x2[i+1-k,j+1-g]\n",
      "            if y<T[1]*8-4:\n",
      "                switch(i,j)\n",
      "            u+=y\n",
      "            u2+=y**2\n",
      "        elif x2[i,j]==-1:\n",
      "            for k in range(2):\n",
      "                for g in range(2):\n",
      "                    y-=x2[i+1-k,j+1-g]\n",
      "            if y<T[1]*8-4:\n",
      "                switch(i,j)\n",
      "            u+=y\n",
      "            u2+=y**2\n",
      "print u,u**2           \n",
      "\n",
      "\n",
      "Cs= (u**2-u2)/(1-T)**2\n",
      "plt.plot(T,Cs)"
     ],
     "language": "python",
     "metadata": {},
     "outputs": [
      {
       "output_type": "stream",
       "stream": "stdout",
       "text": [
        "[[ 0.  0.  0.  0.  0.  0.  0.  0.  0.  0.]\n",
        " [ 0.  0.  0.  0.  0.  0.  0.  0.  0.  0.]\n",
        " [ 0.  0.  0.  0.  0.  1.  0.  0.  0.  0.]\n",
        " [ 0.  0.  0.  0.  0.  0.  0.  0.  0.  0.]\n",
        " [ 0.  0.  0.  0.  0.  0.  0.  0.  0.  0.]\n",
        " [ 0.  0.  0.  0.  0.  0.  0.  0.  0.  0.]\n",
        " [ 0.  0. -1.  0.  0.  0.  1.  0.  0.  0.]\n",
        " [ 0.  0.  0.  0.  0.  0.  0.  0.  0. -1.]\n",
        " [ 0.  0.  0. -1.  0.  0.  0.  0. -1.  0.]\n",
        " [ 0.  0.  0.  0.  0.  0.  0.  0.  0.  0.]]\n",
        "0.0 0.0\n",
        "[[ 0.  0.  0.  0.  0.  0.  0.  0.  0.  0.]\n",
        " [ 0.  0.  0.  0.  0.  0.  0.  0.  0.  0.]\n",
        " [ 0.  0.  0.  0.  0.  1.  0.  0.  0.  0.]\n",
        " [ 0.  0.  0.  0.  0.  0.  0.  0.  0.  0.]\n",
        " [ 0.  0.  0.  0.  0.  0.  0.  0.  0.  0.]\n",
        " [ 0.  0.  0.  0.  0.  0.  0.  0.  0.  0.]\n",
        " [ 0.  0. -1.  0.  0.  0.  1.  0.  0.  0.]\n",
        " [ 0.  0.  0.  0.  0.  0.  0.  0.  0. -1.]\n",
        " [ 0.  0.  0. -1.  0.  0.  0.  0. -1.  0.]\n",
        " [ 0.  0.  0.  0.  0.  0.  0.  0.  0.  0.]]\n"
       ]
      },
      {
       "metadata": {},
       "output_type": "pyout",
       "prompt_number": 95,
       "text": [
        "[<matplotlib.lines.Line2D at 0x853d850>]"
       ]
      },
      {
       "metadata": {},
       "output_type": "display_data",
       "png": "[encoded data removed]",
       "text": [
        "<matplotlib.figure.Figure at 0x83e6e70>"
       ]
      }
     ],
     "prompt_number": 95
    },
    {
     "cell_type": "code",
     "collapsed": false,
     "input": [
      "t=.6\n",
      "q=.8\n",
      "for i in range(size):\n",
      "    for j in range(size):\n",
      "        k=random.random()\n",
      "        if k<t:\n",
      "            x2[i,j]=0\n",
      "        elif k<q:\n",
      "            x2[i,j]=1\n",
      "        else:\n",
      "            x2[i,j]=-1\n",
      "print x2\n",
      "u2=0   \n",
      "u=0    \n",
      "T=np.arange(0.1,1,0.1)\n",
      "def switch(x,y):\n",
      "    j=int(size*random.random())\n",
      "    l=int(size*random.random())\n",
      "    if x2[j,l]==0:\n",
      "        if x2[x,y]==1:\n",
      "            x2[j,l]==1\n",
      "            x2[x,y]==0\n",
      "        elif x2[x,y]==-1:\n",
      "            x2[j,l]==-1\n",
      "            x2[x,y]==0\n",
      "        \n",
      "\n",
      "for i in range(size-1):\n",
      "    for j in range(size-1):\n",
      "        y=-1\n",
      "        if x2[i,j]==1:\n",
      "            for k in range(2):\n",
      "                for g in range(2):\n",
      "                    y+=x2[i+1-k,j+1-g]\n",
      "            if y<T[1]*8-4:\n",
      "                switch(i,j)\n",
      "            u+=y\n",
      "            u2+=y**2\n",
      "        elif x2[i,j]==-1:\n",
      "            for k in range(2):\n",
      "                for g in range(2):\n",
      "                    y-=x2[i+1-k,j+1-g]\n",
      "            if y<T[1]*8-4:\n",
      "                switch(i,j)\n",
      "            u+=y\n",
      "            u2+=y**2\n",
      "print u,u**2           \n",
      "\n",
      "\n",
      "Cs= (u**2-u2)/(1-T)**2\n",
      "plt.plot(T,Cs)"
     ],
     "language": "python",
     "metadata": {},
     "outputs": [
      {
       "output_type": "stream",
       "stream": "stdout",
       "text": [
        "[[ 1.  1.  1.  1.  0.  0.  0.  1.  1.  0.]\n",
        " [ 0.  0.  0.  0.  0.  0.  0.  1.  0. -1.]\n",
        " [-1. -1.  0.  0.  1.  0.  0.  0.  0.  0.]\n",
        " [-1.  0.  0.  0. -1.  0.  1.  1.  0. -1.]\n",
        " [ 0.  0.  0.  1.  0.  1.  0.  0.  0. -1.]\n",
        " [ 0.  0.  1.  0. -1.  1.  0. -1.  1.  0.]\n",
        " [-1.  1.  1.  1. -1.  0. -1.  0.  0.  0.]\n",
        " [-1. -1.  0.  0.  0. -1.  0.  0.  1.  1.]\n",
        " [ 0.  0.  0. -1.  1. -1.  0.  1.  0.  0.]\n",
        " [-1.  0.  0.  0.  0.  0.  0.  0.  0. -1.]]\n",
        "8.0 64.0\n"
       ]
      },
      {
       "metadata": {},
       "output_type": "pyout",
       "prompt_number": 96,
       "text": [
        "[<matplotlib.lines.Line2D at 0x85f50d0>]"
       ]
      },
      {
       "metadata": {},
       "output_type": "display_data",
       "png": "[encoded data removed]",
       "text": [
        "<matplotlib.figure.Figure at 0x83e6b30>"
       ]
      }
     ],
     "prompt_number": 96
    },
    {
     "cell_type": "code",
     "collapsed": false,
     "input": [
      "t=.7\n",
      "q=.85\n",
      "for i in range(size):\n",
      "    for j in range(size):\n",
      "        k=random.random()\n",
      "        if k<t:\n",
      "            x2[i,j]=0\n",
      "        elif k<q:\n",
      "            x2[i,j]=1\n",
      "        else:\n",
      "            x2[i,j]=-1\n",
      "print x2\n",
      "u2=0   \n",
      "u=0    \n",
      "T=np.arange(0.1,1,0.1)\n",
      "def switch(x,y):\n",
      "    j=int(size*random.random())\n",
      "    l=int(size*random.random())\n",
      "    if x2[j,l]==0:\n",
      "        if x2[x,y]==1:\n",
      "            x2[j,l]==1\n",
      "            x2[x,y]==0\n",
      "        elif x2[x,y]==-1:\n",
      "            x2[j,l]==-1\n",
      "            x2[x,y]==0\n",
      "        \n",
      "\n",
      "for i in range(size-1):\n",
      "    for j in range(size-1):\n",
      "        y=-1\n",
      "        if x2[i,j]==1:\n",
      "            for k in range(2):\n",
      "                for g in range(2):\n",
      "                    y+=x2[i+1-k,j+1-g]\n",
      "            if y<T[1]*8-4:\n",
      "                switch(i,j)\n",
      "            u+=y\n",
      "            u2+=y**2\n",
      "        elif x2[i,j]==-1:\n",
      "            for k in range(2):\n",
      "                for g in range(2):\n",
      "                    y-=x2[i+1-k,j+1-g]\n",
      "            if y<T[1]*8-4:\n",
      "                switch(i,j)\n",
      "            u+=y\n",
      "            u2+=y**2\n",
      "print u,u**2           \n",
      "\n",
      "\n",
      "Cs= (u**2-u2)/(1-T)**2\n",
      "plt.plot(T,Cs)"
     ],
     "language": "python",
     "metadata": {},
     "outputs": [
      {
       "output_type": "stream",
       "stream": "stdout",
       "text": [
        "[[ 0.  1. -1.  0.  0.  1. -1.  0.  0.  1.]\n",
        " [ 0.  0.  0.  0.  1.  1.  0.  0.  0.  0.]\n",
        " [ 0. -1.  0.  1. -1. -1.  0.  0.  0.  0.]\n",
        " [ 0.  0.  0.  0.  0.  1.  0. -1. -1.  0.]\n",
        " [ 0.  1.  0. -1.  1. -1.  0.  0.  0.  0.]\n",
        " [ 1.  1.  0.  0.  0.  0.  0.  0.  0.  0.]\n",
        " [ 0.  0. -1.  0.  0.  0. -1.  0.  1.  0.]\n",
        " [ 0.  0.  0.  0.  0.  0.  0. -1.  0.  0.]\n",
        " [ 0.  0.  1.  0.  0.  0.  0.  1.  0.  0.]\n",
        " [ 0.  0.  0.  1. -1.  0. -1.  0. -1.  1.]]\n",
        "-6.0 36.0\n"
       ]
      },
      {
       "metadata": {},
       "output_type": "pyout",
       "prompt_number": 100,
       "text": [
        "[<matplotlib.lines.Line2D at 0x8b85b90>]"
       ]
      },
      {
       "metadata": {},
       "output_type": "display_data",
       "png": "[encoded data removed]",
       "text": [
        "<matplotlib.figure.Figure at 0x89041b0>"
       ]
      }
     ],
     "prompt_number": 100
    },
    {
     "cell_type": "code",
     "collapsed": false,
     "input": [],
     "language": "python",
     "metadata": {},
     "outputs": []
    }
   ],
   "metadata": {}
  }
 ]
}