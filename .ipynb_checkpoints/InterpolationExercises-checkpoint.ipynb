{
 "metadata": {
  "name": "",
  "signature": "sha256:703ed1738d2760a5f1890fb12fb841582ef7f3263d4d1d7a64ce961ded000e36"
 },
 "nbformat": 3,
 "nbformat_minor": 0,
 "worksheets": [
  {
   "cells": [
    {
     "cell_type": "heading",
     "level": 1,
     "metadata": {},
     "source": [
      "Interpolation Exercises"
     ]
    },
    {
     "cell_type": "code",
     "collapsed": false,
     "input": [
      "%pylab inline\n",
      "import numpy as np\n",
      "import matplotlib.pyplot as plt"
     ],
     "language": "python",
     "metadata": {},
     "outputs": [
      {
       "output_type": "stream",
       "stream": "stdout",
       "text": [
        "Populating the interactive namespace from numpy and matplotlib\n"
       ]
      }
     ],
     "prompt_number": 1
    },
    {
     "cell_type": "code",
     "collapsed": false,
     "input": [
      "from Electrostatics import *\n",
      "x,y = np.meshgrid(np.arange(-5,5.01,0.5),np.arange(-5,5.01,0.5))\n",
      "Vdipole = dipolePotential(x,y,1e-9,2.)\n",
      "plt.contour(x,y,Vdipole,cmap=cm.coolwarm)\n",
      "plt.show()"
     ],
     "language": "python",
     "metadata": {},
     "outputs": [
      {
       "metadata": {},
       "output_type": "display_data",
       "png": "[encoded data removed]",
       "text": [
        "<matplotlib.figure.Figure at 0x10683cc10>"
       ]
      }
     ],
     "prompt_number": 18
    },
    {
     "cell_type": "markdown",
     "metadata": {},
     "source": [
      "\n",
      "(a) Use a boolean mask to locate the positions where x=0."
     ]
    },
    {
     "cell_type": "code",
     "collapsed": false,
     "input": [
      "ii = x == 0\n",
      "jj=y==0\n",
      "r=np.arange(-5,5.01,0.5)\n",
      "plt.contour(x[ii],y[ii],Vdipole,cmap=cm.coolwarm)"
     ],
     "language": "python",
     "metadata": {},
     "outputs": [
      {
       "metadata": {},
       "output_type": "pyout",
       "prompt_number": 19,
       "text": [
        "<matplotlib.contour.QuadContourSet instance at 0x1068ce710>"
       ]
      },
      {
       "metadata": {},
       "output_type": "display_data",
       "png": "[encoded data removed]",
       "text": [
        "<matplotlib.figure.Figure at 0x106859990>"
       ]
      }
     ],
     "prompt_number": 19
    },
    {
     "cell_type": "markdown",
     "metadata": {},
     "source": [
      "\n",
      "(b) Check that Vdipole for these locations is zero. i.e. print the value of Vdipole for these locations using your mask from part (a)."
     ]
    },
    {
     "cell_type": "code",
     "collapsed": false,
     "input": [
      "Vdipole = dipolePotential(x[ii],y,1e-9,2.)\n",
      "print Vdipole"
     ],
     "language": "python",
     "metadata": {},
     "outputs": [
      {
       "output_type": "stream",
       "stream": "stdout",
       "text": [
        "[[ 0.  0.  0.  0.  0.  0.  0.  0.  0.  0.  0.  0.  0.  0.  0.  0.  0.  0.\n",
        "   0.  0.  0.]\n",
        " [ 0.  0.  0.  0.  0.  0.  0.  0.  0.  0.  0.  0.  0.  0.  0.  0.  0.  0.\n",
        "   0.  0.  0.]\n",
        " [ 0.  0.  0.  0.  0.  0.  0.  0.  0.  0.  0.  0.  0.  0.  0.  0.  0.  0.\n",
        "   0.  0.  0.]\n",
        " [ 0.  0.  0.  0.  0.  0.  0.  0.  0.  0.  0.  0.  0.  0.  0.  0.  0.  0.\n",
        "   0.  0.  0.]\n",
        " [ 0.  0.  0.  0.  0.  0.  0.  0.  0.  0.  0.  0.  0.  0.  0.  0.  0.  0.\n",
        "   0.  0.  0.]\n",
        " [ 0.  0.  0.  0.  0.  0.  0.  0.  0.  0.  0.  0.  0.  0.  0.  0.  0.  0.\n",
        "   0.  0.  0.]\n",
        " [ 0.  0.  0.  0.  0.  0.  0.  0.  0.  0.  0.  0.  0.  0.  0.  0.  0.  0.\n",
        "   0.  0.  0.]\n",
        " [ 0.  0.  0.  0.  0.  0.  0.  0.  0.  0.  0.  0.  0.  0.  0.  0.  0.  0.\n",
        "   0.  0.  0.]\n",
        " [ 0.  0.  0.  0.  0.  0.  0.  0.  0.  0.  0.  0.  0.  0.  0.  0.  0.  0.\n",
        "   0.  0.  0.]\n",
        " [ 0.  0.  0.  0.  0.  0.  0.  0.  0.  0.  0.  0.  0.  0.  0.  0.  0.  0.\n",
        "   0.  0.  0.]\n",
        " [ 0.  0.  0.  0.  0.  0.  0.  0.  0.  0.  0.  0.  0.  0.  0.  0.  0.  0.\n",
        "   0.  0.  0.]\n",
        " [ 0.  0.  0.  0.  0.  0.  0.  0.  0.  0.  0.  0.  0.  0.  0.  0.  0.  0.\n",
        "   0.  0.  0.]\n",
        " [ 0.  0.  0.  0.  0.  0.  0.  0.  0.  0.  0.  0.  0.  0.  0.  0.  0.  0.\n",
        "   0.  0.  0.]\n",
        " [ 0.  0.  0.  0.  0.  0.  0.  0.  0.  0.  0.  0.  0.  0.  0.  0.  0.  0.\n",
        "   0.  0.  0.]\n",
        " [ 0.  0.  0.  0.  0.  0.  0.  0.  0.  0.  0.  0.  0.  0.  0.  0.  0.  0.\n",
        "   0.  0.  0.]\n",
        " [ 0.  0.  0.  0.  0.  0.  0.  0.  0.  0.  0.  0.  0.  0.  0.  0.  0.  0.\n",
        "   0.  0.  0.]\n",
        " [ 0.  0.  0.  0.  0.  0.  0.  0.  0.  0.  0.  0.  0.  0.  0.  0.  0.  0.\n",
        "   0.  0.  0.]\n",
        " [ 0.  0.  0.  0.  0.  0.  0.  0.  0.  0.  0.  0.  0.  0.  0.  0.  0.  0.\n",
        "   0.  0.  0.]\n",
        " [ 0.  0.  0.  0.  0.  0.  0.  0.  0.  0.  0.  0.  0.  0.  0.  0.  0.  0.\n",
        "   0.  0.  0.]\n",
        " [ 0.  0.  0.  0.  0.  0.  0.  0.  0.  0.  0.  0.  0.  0.  0.  0.  0.  0.\n",
        "   0.  0.  0.]\n",
        " [ 0.  0.  0.  0.  0.  0.  0.  0.  0.  0.  0.  0.  0.  0.  0.  0.  0.  0.\n",
        "   0.  0.  0.]]\n"
       ]
      }
     ],
     "prompt_number": 15
    },
    {
     "cell_type": "code",
     "collapsed": false,
     "input": [
      "d= dipolePotential(x,y[jj],1e-9,2.)\n",
      "print d"
     ],
     "language": "python",
     "metadata": {},
     "outputs": [
      {
       "output_type": "stream",
       "stream": "stdout",
       "text": [
        "[[  0.74896265   0.93377161   1.19834024   1.59778698   2.24688795\n",
        "    3.42382925   5.99170119  14.38008286          inf  11.98340238   0.\n",
        "  -11.98340238         -inf -14.38008286  -5.99170119  -3.42382925\n",
        "   -2.24688795  -1.59778698  -1.19834024  -0.93377161  -0.74896265]\n",
        " [  0.74896265   0.93377161   1.19834024   1.59778698   2.24688795\n",
        "    3.42382925   5.99170119  14.38008286          inf  11.98340238   0.\n",
        "  -11.98340238         -inf -14.38008286  -5.99170119  -3.42382925\n",
        "   -2.24688795  -1.59778698  -1.19834024  -0.93377161  -0.74896265]\n",
        " [  0.74896265   0.93377161   1.19834024   1.59778698   2.24688795\n",
        "    3.42382925   5.99170119  14.38008286          inf  11.98340238   0.\n",
        "  -11.98340238         -inf -14.38008286  -5.99170119  -3.42382925\n",
        "   -2.24688795  -1.59778698  -1.19834024  -0.93377161  -0.74896265]\n",
        " [  0.74896265   0.93377161   1.19834024   1.59778698   2.24688795\n",
        "    3.42382925   5.99170119  14.38008286          inf  11.98340238   0.\n",
        "  -11.98340238         -inf -14.38008286  -5.99170119  -3.42382925\n",
        "   -2.24688795  -1.59778698  -1.19834024  -0.93377161  -0.74896265]\n",
        " [  0.74896265   0.93377161   1.19834024   1.59778698   2.24688795\n",
        "    3.42382925   5.99170119  14.38008286          inf  11.98340238   0.\n",
        "  -11.98340238         -inf -14.38008286  -5.99170119  -3.42382925\n",
        "   -2.24688795  -1.59778698  -1.19834024  -0.93377161  -0.74896265]\n",
        " [  0.74896265   0.93377161   1.19834024   1.59778698   2.24688795\n",
        "    3.42382925   5.99170119  14.38008286          inf  11.98340238   0.\n",
        "  -11.98340238         -inf -14.38008286  -5.99170119  -3.42382925\n",
        "   -2.24688795  -1.59778698  -1.19834024  -0.93377161  -0.74896265]\n",
        " [  0.74896265   0.93377161   1.19834024   1.59778698   2.24688795\n",
        "    3.42382925   5.99170119  14.38008286          inf  11.98340238   0.\n",
        "  -11.98340238         -inf -14.38008286  -5.99170119  -3.42382925\n",
        "   -2.24688795  -1.59778698  -1.19834024  -0.93377161  -0.74896265]\n",
        " [  0.74896265   0.93377161   1.19834024   1.59778698   2.24688795\n",
        "    3.42382925   5.99170119  14.38008286          inf  11.98340238   0.\n",
        "  -11.98340238         -inf -14.38008286  -5.99170119  -3.42382925\n",
        "   -2.24688795  -1.59778698  -1.19834024  -0.93377161  -0.74896265]\n",
        " [  0.74896265   0.93377161   1.19834024   1.59778698   2.24688795\n",
        "    3.42382925   5.99170119  14.38008286          inf  11.98340238   0.\n",
        "  -11.98340238         -inf -14.38008286  -5.99170119  -3.42382925\n",
        "   -2.24688795  -1.59778698  -1.19834024  -0.93377161  -0.74896265]\n",
        " [  0.74896265   0.93377161   1.19834024   1.59778698   2.24688795\n",
        "    3.42382925   5.99170119  14.38008286          inf  11.98340238   0.\n",
        "  -11.98340238         -inf -14.38008286  -5.99170119  -3.42382925\n",
        "   -2.24688795  -1.59778698  -1.19834024  -0.93377161  -0.74896265]\n",
        " [  0.74896265   0.93377161   1.19834024   1.59778698   2.24688795\n",
        "    3.42382925   5.99170119  14.38008286          inf  11.98340238   0.\n",
        "  -11.98340238         -inf -14.38008286  -5.99170119  -3.42382925\n",
        "   -2.24688795  -1.59778698  -1.19834024  -0.93377161  -0.74896265]\n",
        " [  0.74896265   0.93377161   1.19834024   1.59778698   2.24688795\n",
        "    3.42382925   5.99170119  14.38008286          inf  11.98340238   0.\n",
        "  -11.98340238         -inf -14.38008286  -5.99170119  -3.42382925\n",
        "   -2.24688795  -1.59778698  -1.19834024  -0.93377161  -0.74896265]\n",
        " [  0.74896265   0.93377161   1.19834024   1.59778698   2.24688795\n",
        "    3.42382925   5.99170119  14.38008286          inf  11.98340238   0.\n",
        "  -11.98340238         -inf -14.38008286  -5.99170119  -3.42382925\n",
        "   -2.24688795  -1.59778698  -1.19834024  -0.93377161  -0.74896265]\n",
        " [  0.74896265   0.93377161   1.19834024   1.59778698   2.24688795\n",
        "    3.42382925   5.99170119  14.38008286          inf  11.98340238   0.\n",
        "  -11.98340238         -inf -14.38008286  -5.99170119  -3.42382925\n",
        "   -2.24688795  -1.59778698  -1.19834024  -0.93377161  -0.74896265]\n",
        " [  0.74896265   0.93377161   1.19834024   1.59778698   2.24688795\n",
        "    3.42382925   5.99170119  14.38008286          inf  11.98340238   0.\n",
        "  -11.98340238         -inf -14.38008286  -5.99170119  -3.42382925\n",
        "   -2.24688795  -1.59778698  -1.19834024  -0.93377161  -0.74896265]\n",
        " [  0.74896265   0.93377161   1.19834024   1.59778698   2.24688795\n",
        "    3.42382925   5.99170119  14.38008286          inf  11.98340238   0.\n",
        "  -11.98340238         -inf -14.38008286  -5.99170119  -3.42382925\n",
        "   -2.24688795  -1.59778698  -1.19834024  -0.93377161  -0.74896265]\n",
        " [  0.74896265   0.93377161   1.19834024   1.59778698   2.24688795\n",
        "    3.42382925   5.99170119  14.38008286          inf  11.98340238   0.\n",
        "  -11.98340238         -inf -14.38008286  -5.99170119  -3.42382925\n",
        "   -2.24688795  -1.59778698  -1.19834024  -0.93377161  -0.74896265]\n",
        " [  0.74896265   0.93377161   1.19834024   1.59778698   2.24688795\n",
        "    3.42382925   5.99170119  14.38008286          inf  11.98340238   0.\n",
        "  -11.98340238         -inf -14.38008286  -5.99170119  -3.42382925\n",
        "   -2.24688795  -1.59778698  -1.19834024  -0.93377161  -0.74896265]\n",
        " [  0.74896265   0.93377161   1.19834024   1.59778698   2.24688795\n",
        "    3.42382925   5.99170119  14.38008286          inf  11.98340238   0.\n",
        "  -11.98340238         -inf -14.38008286  -5.99170119  -3.42382925\n",
        "   -2.24688795  -1.59778698  -1.19834024  -0.93377161  -0.74896265]\n",
        " [  0.74896265   0.93377161   1.19834024   1.59778698   2.24688795\n",
        "    3.42382925   5.99170119  14.38008286          inf  11.98340238   0.\n",
        "  -11.98340238         -inf -14.38008286  -5.99170119  -3.42382925\n",
        "   -2.24688795  -1.59778698  -1.19834024  -0.93377161  -0.74896265]\n",
        " [  0.74896265   0.93377161   1.19834024   1.59778698   2.24688795\n",
        "    3.42382925   5.99170119  14.38008286          inf  11.98340238   0.\n",
        "  -11.98340238         -inf -14.38008286  -5.99170119  -3.42382925\n",
        "   -2.24688795  -1.59778698  -1.19834024  -0.93377161  -0.74896265]]\n"
       ]
      }
     ],
     "prompt_number": 20
    },
    {
     "cell_type": "code",
     "collapsed": false,
     "input": [
      "from scipy.interpolate import interp1d  "
     ],
     "language": "python",
     "metadata": {},
     "outputs": [],
     "prompt_number": 21
    },
    {
     "cell_type": "markdown",
     "metadata": {},
     "source": [
      "(a) Let's turn this look-up table into a continuous function. Write a reusable function Temp(Resistance) that takes any value of Resistance and returns the interpolated temperature. Be sure to include a docstring in your function."
     ]
    },
    {
     "cell_type": "code",
     "collapsed": false,
     "input": [
      "x=np.arange(10,40,1)"
     ],
     "language": "python",
     "metadata": {},
     "outputs": [],
     "prompt_number": 37
    },
    {
     "cell_type": "code",
     "collapsed": false,
     "input": [
      "print x"
     ],
     "language": "python",
     "metadata": {},
     "outputs": [
      {
       "output_type": "stream",
       "stream": "stdout",
       "text": [
        "[10 11 12 13 14 15 16 17 18 19 20 21 22 23 24 25 26 27 28 29 30 31 32 33 34\n",
        " 35 36 37 38 39]\n"
       ]
      }
     ],
     "prompt_number": 38
    },
    {
     "cell_type": "code",
     "collapsed": false,
     "input": [
      "y=np.array([3.239,3.118,3.004,2.897,2.795,2.700,2.610,2.526,2.446,2.371,2.300,2.233,2.169,2.110,2.053,2.000,1.950,1.902,1.857,1.815,1.774,1.736,1.700,1.666,1.634,1.603,1.574,1.547,1.521,1.496])"
     ],
     "language": "python",
     "metadata": {},
     "outputs": [],
     "prompt_number": 49
    },
    {
     "cell_type": "code",
     "collapsed": false,
     "input": [
      "print y"
     ],
     "language": "python",
     "metadata": {},
     "outputs": [
      {
       "output_type": "stream",
       "stream": "stdout",
       "text": [
        "[ 3.239  3.118  3.004  2.897  2.795  2.7    2.61   2.526  2.446  2.371  2.3\n",
        "  2.233  2.169  2.11   2.053  2.     1.95   1.902  1.857  1.815  1.774\n",
        "  1.736  1.7    1.666  1.634  1.603  1.574  1.547  1.521  1.496]\n"
       ]
      }
     ],
     "prompt_number": 50
    },
    {
     "cell_type": "code",
     "collapsed": false,
     "input": [
      "def Temp1(r):\n",
      "    return y[r-10]\n"
     ],
     "language": "python",
     "metadata": {},
     "outputs": [],
     "prompt_number": 54
    },
    {
     "cell_type": "code",
     "collapsed": false,
     "input": [
      "print Temp1(13)"
     ],
     "language": "python",
     "metadata": {},
     "outputs": [
      {
       "output_type": "stream",
       "stream": "stdout",
       "text": [
        "2.897\n"
       ]
      }
     ],
     "prompt_number": 52
    },
    {
     "cell_type": "code",
     "collapsed": false,
     "input": [
      "print Temp1(x)\n",
      "print x"
     ],
     "language": "python",
     "metadata": {},
     "outputs": [
      {
       "output_type": "stream",
       "stream": "stdout",
       "text": [
        "[ 3.239  3.118  3.004  2.897  2.795  2.7    2.61   2.526  2.446  2.371  2.3\n",
        "  2.233  2.169  2.11   2.053  2.     1.95   1.902  1.857  1.815  1.774\n",
        "  1.736  1.7    1.666  1.634  1.603  1.574  1.547  1.521  1.496]\n",
        "[10 11 12 13 14 15 16 17 18 19 20 21 22 23 24 25 26 27 28 29 30 31 32 33 34\n",
        " 35 36 37 38 39]\n"
       ]
      }
     ],
     "prompt_number": 73
    },
    {
     "cell_type": "code",
     "collapsed": false,
     "input": [
      "def Temp(r):\n",
      "    y=np.array([3.239,3.118,3.004,2.897,2.795,2.700,2.610,2.526,2.446,2.371,2.300,2.233,2.169,2.110,2.053,2.000,1.950,1.902,1.857,1.815,1.774,1.736,1.700,1.666,1.634,1.603,1.574,1.547,1.521,1.496])\n",
      "    x=np.arange(10,40,1)\n",
      "    g = interp1d(x,y[x-10])\n",
      " \n",
      "    return g(r)"
     ],
     "language": "python",
     "metadata": {},
     "outputs": [],
     "prompt_number": 88
    },
    {
     "cell_type": "markdown",
     "metadata": {},
     "source": [
      "\n",
      "(b) Show that the function returns expected values, including some from the table for a few specific input resistances."
     ]
    },
    {
     "cell_type": "code",
     "collapsed": false,
     "input": [
      "Temp(10.5)"
     ],
     "language": "python",
     "metadata": {},
     "outputs": [
      {
       "metadata": {},
       "output_type": "pyout",
       "prompt_number": 89,
       "text": [
        "array(3.1784999999999997)"
       ]
      }
     ],
     "prompt_number": 89
    },
    {
     "cell_type": "code",
     "collapsed": false,
     "input": [
      "Temp(x)\n",
      "Temp(10)\n",
      "Temp(20)"
     ],
     "language": "python",
     "metadata": {},
     "outputs": [
      {
       "metadata": {},
       "output_type": "pyout",
       "prompt_number": 90,
       "text": [
        "array(2.3)"
       ]
      }
     ],
     "prompt_number": 90
    },
    {
     "cell_type": "markdown",
     "metadata": {},
     "source": [
      "\n",
      "(c) Plot Temp(Resistance) vs. Resistance for a reasonable range of Resistance with reasonably fine sampling. Include as an annotation on the plot the value of the temperature for a resistance of 1.75 M\u03a9. (It's up to you to decide what \"reasonable\" means in both cases.)"
     ]
    },
    {
     "cell_type": "code",
     "collapsed": false,
     "input": [
      "plt.plot(x,Temp(x))"
     ],
     "language": "python",
     "metadata": {},
     "outputs": [
      {
       "metadata": {},
       "output_type": "pyout",
       "prompt_number": 91,
       "text": [
        "[<matplotlib.lines.Line2D at 0x107ec8b90>]"
       ]
      },
      {
       "metadata": {},
       "output_type": "display_data",
       "png": "[encoded data removed]",
       "text": [
        "<matplotlib.figure.Figure at 0x106acff10>"
       ]
      }
     ],
     "prompt_number": 91
    },
    {
     "cell_type": "code",
     "collapsed": false,
     "input": [],
     "language": "python",
     "metadata": {},
     "outputs": []
    }
   ],
   "metadata": {}
  }
 ]
}