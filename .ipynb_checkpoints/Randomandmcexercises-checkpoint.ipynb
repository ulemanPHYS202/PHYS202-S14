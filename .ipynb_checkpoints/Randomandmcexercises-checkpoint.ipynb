{
 "metadata": {
  "name": "",
  "signature": "sha256:db1ffa74b0b21e125e15560baf3429725ca4d920dda15889271b287f5362454f"
 },
 "nbformat": 3,
 "nbformat_minor": 0,
 "worksheets": [
  {
   "cells": [
    {
     "cell_type": "heading",
     "level": 1,
     "metadata": {},
     "source": [
      "Random Numbers, Monte Carlo Sampling and Simulation Exercises"
     ]
    },
    {
     "cell_type": "markdown",
     "metadata": {},
     "source": [
      "(a) Solve for the CDF of the Weibull distribution analytically, using"
     ]
    },
    {
     "cell_type": "code",
     "collapsed": false,
     "input": [],
     "language": "python",
     "metadata": {},
     "outputs": []
    }
   ],
   "metadata": {}
  }
 ]
}