{
 "metadata": {
  "name": "",
  "signature": "sha256:52676fdcd1208efaad06c9614289669aca0a9af69f0b6dc3f9785e67036cf50c"
 },
 "nbformat": 3,
 "nbformat_minor": 0,
 "worksheets": [
  {
   "cells": [
    {
     "cell_type": "code",
     "collapsed": false,
     "input": [
      "from Electrostatics import *"
     ],
     "language": "python",
     "metadata": {},
     "outputs": [],
     "prompt_number": 1
    },
    {
     "cell_type": "code",
     "collapsed": false,
     "input": [
      "pointPotential?\n",
      "%pylab inline\n",
      "import numpy as np\n",
      "import matplotlib.pyplot as plt\n",
      "from IPython.html.widgets import interact,interactive"
     ],
     "language": "python",
     "metadata": {},
     "outputs": [
      {
       "output_type": "stream",
       "stream": "stdout",
       "text": [
        "Populating the interactive namespace from numpy and matplotlib\n"
       ]
      }
     ],
     "prompt_number": 4
    },
    {
     "cell_type": "code",
     "collapsed": false,
     "input": [
      "def samplemean(N=10000,xmin=1.7,xmax=3):\n",
      "    f=pointPotential\n",
      "    x=np.arange(0.,15.,0.001)\n",
      "    Iana = lambda x:(2./3.)*x**(3./2.)-np.cos(x)\n",
      "    Iexact=Iana(xmax)-Iana(xmin)\n",
      "    \n",
      "    samples_x=xmin+(xmax-xmin)*np.random.random_sample(N);\n",
      "    approx=f(samples_x)\n",
      "    I=approx.mean()*(xmax-xmin)\n",
      "    Iunc=(xmax-xmin)*np.sqrt(((approx**2).mean()-(approx.mean())**2)/N)\n",
      "    Ierr=100*np.abs(Iexact-I)/Iexact\n",
      "    ymax=approx.max()\n",
      "    ymin=0.\n",
      "    \n",
      "    print 'I_ecaxt =',Iexact\n",
      "    print 'I_samplemean =',I,'+/-',Iunc\n",
      "    print 'Error on I =',Ierr,\"%\"\n",
      "    plt.plot(x,f(x),lw=3)\n",
      "    plt.ylabel(r'$x^{1/2} + \\sin(x)$',fontsize=20)\n",
      "    plt.xlabel(r'$x$', fontsize = 20)\n",
      "    plt.xlim(0.,15.)\n",
      "    plt.plot((xmin,xmax),(approx.mean(),approx.mean()),'r-',label=\"Average value of function at sample points\")\n",
      "    plt.legend(loc=\"upper left\")\n",
      "    plt.plot([xmin, xmin], [ymin, ymax], color='k', linestyle='--') \n",
      "    plt.plot([xmax, xmax], [ymin, ymax], color='k', linestyle='--') \n",
      "    plt.plot([xmin, xmax], [ymax, ymax], color='k', linestyle='--') \n",
      "    plt.show()\n",
      "v= interact(samplemean,N=(1000,100000,100),xmin=(0.,15.,0.001),xmax=(0.,15.,0.001))"
     ],
     "language": "python",
     "metadata": {},
     "outputs": []
    }
   ],
   "metadata": {}
  }
 ]
}