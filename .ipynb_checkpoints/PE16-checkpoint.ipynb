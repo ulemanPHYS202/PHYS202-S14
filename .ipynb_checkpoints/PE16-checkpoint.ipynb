{
 "metadata": {
  "name": "",
  "signature": "sha256:a9cf50db72dbf130d0b1a0947b67ce6e62f442041e1fbeaf3610c7667db6e55e"
 },
 "nbformat": 3,
 "nbformat_minor": 0,
 "worksheets": []
}